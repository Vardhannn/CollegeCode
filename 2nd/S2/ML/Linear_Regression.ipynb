{
  "cells": [
    {
      "cell_type": "markdown",
      "metadata": {
        "id": "view-in-github",
        "colab_type": "text"
      },
      "source": [
        "<a href=\"https://colab.research.google.com/github/Vardhannn/ML/blob/main/ML_Lab2_Linear_Regression.ipynb\" target=\"_parent\"><img src=\"https://colab.research.google.com/assets/colab-badge.svg\" alt=\"Open In Colab\"/></a>"
      ]
    },
    {
      "cell_type": "markdown",
      "metadata": {
        "id": "lzF5I2NXX2IZ"
      },
      "source": [
        "**Lab Exercise-2**\n",
        "House price prediction: \n",
        "\n",
        "a. Create a model that predicts a continuous value (price) from input features such as square feet, number of bedrooms,bathrooms etc. \n",
        "\n",
        "b. Implement a univariate Model using Least Squares and plot best-fit line \n",
        "\n",
        "c. Implement a multivariate Model using Least Squares and plot best-fit line \n",
        "\n",
        "d. Retrieve model error and model coefficients \n",
        "\n",
        "e. Observe Variance Inflation Factor(VIF) \n",
        "\n",
        "f. Implement Ridge regression model \n",
        "\n",
        "g. Implement LASSO regression model \n",
        "\n",
        "h. Report your observations on the above models for house prediction "
      ]
    },
    {
      "cell_type": "code",
      "execution_count": null,
      "metadata": {
        "id": "xWf7IxG367-5"
      },
      "outputs": [],
      "source": [
        "dataset_link = \"https://docs.google.com/spreadsheets/d/e/2PACX-1vQV0ktrVSaCtsI_VeguDX64mEsDFE2YUc3Ypvz5-uOJp5zIfwGt-wlbX-QfnKWQRvHAj9mVAiOPGdQv/pub?gid=1780346880&single=true&output=csv\""
      ]
    },
    {
      "cell_type": "code",
      "execution_count": null,
      "metadata": {
        "colab": {
          "background_save": true
        },
        "id": "PjEy7sBLo3yL"
      },
      "outputs": [],
      "source": [
        "import numpy as np\n",
        "import pandas as pd\n",
        "\n",
        "dataset = pd.read_csv(dataset_link)"
      ]
    },
    {
      "cell_type": "code",
      "execution_count": null,
      "metadata": {
        "colab": {
          "base_uri": "https://localhost:8080/",
          "height": 317
        },
        "id": "naRHfFnzpTbA",
        "outputId": "a6be5f07-3445-4d2e-f932-403c4b9e78c8"
      },
      "outputs": [
        {
          "data": {
            "text/html": [
              "\n",
              "  <div id=\"df-1df69bac-3139-4fdf-95b8-23fcf521ac5d\">\n",
              "    <div class=\"colab-df-container\">\n",
              "      <div>\n",
              "<style scoped>\n",
              "    .dataframe tbody tr th:only-of-type {\n",
              "        vertical-align: middle;\n",
              "    }\n",
              "\n",
              "    .dataframe tbody tr th {\n",
              "        vertical-align: top;\n",
              "    }\n",
              "\n",
              "    .dataframe thead th {\n",
              "        text-align: right;\n",
              "    }\n",
              "</style>\n",
              "<table border=\"1\" class=\"dataframe\">\n",
              "  <thead>\n",
              "    <tr style=\"text-align: right;\">\n",
              "      <th></th>\n",
              "      <th>Unnamed: 0</th>\n",
              "      <th>id</th>\n",
              "      <th>date</th>\n",
              "      <th>price</th>\n",
              "      <th>bedrooms</th>\n",
              "      <th>bathrooms</th>\n",
              "      <th>sqft_living</th>\n",
              "      <th>sqft_lot</th>\n",
              "      <th>floors</th>\n",
              "      <th>waterfront</th>\n",
              "      <th>...</th>\n",
              "      <th>grade</th>\n",
              "      <th>sqft_above</th>\n",
              "      <th>sqft_basement</th>\n",
              "      <th>yr_built</th>\n",
              "      <th>yr_renovated</th>\n",
              "      <th>zipcode</th>\n",
              "      <th>lat</th>\n",
              "      <th>long</th>\n",
              "      <th>sqft_living15</th>\n",
              "      <th>sqft_lot15</th>\n",
              "    </tr>\n",
              "  </thead>\n",
              "  <tbody>\n",
              "    <tr>\n",
              "      <th>0</th>\n",
              "      <td>0</td>\n",
              "      <td>7129300520</td>\n",
              "      <td>20141013T000000</td>\n",
              "      <td>221900</td>\n",
              "      <td>3.0</td>\n",
              "      <td>1.00</td>\n",
              "      <td>1180</td>\n",
              "      <td>5650</td>\n",
              "      <td>1.0</td>\n",
              "      <td>0</td>\n",
              "      <td>...</td>\n",
              "      <td>7</td>\n",
              "      <td>1180</td>\n",
              "      <td>0</td>\n",
              "      <td>1955</td>\n",
              "      <td>0</td>\n",
              "      <td>98178</td>\n",
              "      <td>47.5112</td>\n",
              "      <td>-122.257</td>\n",
              "      <td>1340</td>\n",
              "      <td>5650</td>\n",
              "    </tr>\n",
              "    <tr>\n",
              "      <th>1</th>\n",
              "      <td>1</td>\n",
              "      <td>6414100192</td>\n",
              "      <td>20141209T000000</td>\n",
              "      <td>538000</td>\n",
              "      <td>3.0</td>\n",
              "      <td>2.25</td>\n",
              "      <td>2570</td>\n",
              "      <td>7242</td>\n",
              "      <td>2.0</td>\n",
              "      <td>0</td>\n",
              "      <td>...</td>\n",
              "      <td>7</td>\n",
              "      <td>2170</td>\n",
              "      <td>400</td>\n",
              "      <td>1951</td>\n",
              "      <td>1991</td>\n",
              "      <td>98125</td>\n",
              "      <td>47.7210</td>\n",
              "      <td>-122.319</td>\n",
              "      <td>1690</td>\n",
              "      <td>7639</td>\n",
              "    </tr>\n",
              "    <tr>\n",
              "      <th>2</th>\n",
              "      <td>2</td>\n",
              "      <td>5631500400</td>\n",
              "      <td>20150225T000000</td>\n",
              "      <td>180000</td>\n",
              "      <td>2.0</td>\n",
              "      <td>1.00</td>\n",
              "      <td>770</td>\n",
              "      <td>10000</td>\n",
              "      <td>1.0</td>\n",
              "      <td>0</td>\n",
              "      <td>...</td>\n",
              "      <td>6</td>\n",
              "      <td>770</td>\n",
              "      <td>0</td>\n",
              "      <td>1933</td>\n",
              "      <td>0</td>\n",
              "      <td>98028</td>\n",
              "      <td>47.7379</td>\n",
              "      <td>-122.233</td>\n",
              "      <td>2720</td>\n",
              "      <td>8062</td>\n",
              "    </tr>\n",
              "    <tr>\n",
              "      <th>3</th>\n",
              "      <td>3</td>\n",
              "      <td>2487200875</td>\n",
              "      <td>20141209T000000</td>\n",
              "      <td>604000</td>\n",
              "      <td>4.0</td>\n",
              "      <td>3.00</td>\n",
              "      <td>1960</td>\n",
              "      <td>5000</td>\n",
              "      <td>1.0</td>\n",
              "      <td>0</td>\n",
              "      <td>...</td>\n",
              "      <td>7</td>\n",
              "      <td>1050</td>\n",
              "      <td>910</td>\n",
              "      <td>1965</td>\n",
              "      <td>0</td>\n",
              "      <td>98136</td>\n",
              "      <td>47.5208</td>\n",
              "      <td>-122.393</td>\n",
              "      <td>1360</td>\n",
              "      <td>5000</td>\n",
              "    </tr>\n",
              "    <tr>\n",
              "      <th>4</th>\n",
              "      <td>4</td>\n",
              "      <td>1954400510</td>\n",
              "      <td>20150218T000000</td>\n",
              "      <td>510000</td>\n",
              "      <td>3.0</td>\n",
              "      <td>2.00</td>\n",
              "      <td>1680</td>\n",
              "      <td>8080</td>\n",
              "      <td>1.0</td>\n",
              "      <td>0</td>\n",
              "      <td>...</td>\n",
              "      <td>8</td>\n",
              "      <td>1680</td>\n",
              "      <td>0</td>\n",
              "      <td>1987</td>\n",
              "      <td>0</td>\n",
              "      <td>98074</td>\n",
              "      <td>47.6168</td>\n",
              "      <td>-122.045</td>\n",
              "      <td>1800</td>\n",
              "      <td>7503</td>\n",
              "    </tr>\n",
              "  </tbody>\n",
              "</table>\n",
              "<p>5 rows × 22 columns</p>\n",
              "</div>\n",
              "      <button class=\"colab-df-convert\" onclick=\"convertToInteractive('df-1df69bac-3139-4fdf-95b8-23fcf521ac5d')\"\n",
              "              title=\"Convert this dataframe to an interactive table.\"\n",
              "              style=\"display:none;\">\n",
              "        \n",
              "  <svg xmlns=\"http://www.w3.org/2000/svg\" height=\"24px\"viewBox=\"0 0 24 24\"\n",
              "       width=\"24px\">\n",
              "    <path d=\"M0 0h24v24H0V0z\" fill=\"none\"/>\n",
              "    <path d=\"M18.56 5.44l.94 2.06.94-2.06 2.06-.94-2.06-.94-.94-2.06-.94 2.06-2.06.94zm-11 1L8.5 8.5l.94-2.06 2.06-.94-2.06-.94L8.5 2.5l-.94 2.06-2.06.94zm10 10l.94 2.06.94-2.06 2.06-.94-2.06-.94-.94-2.06-.94 2.06-2.06.94z\"/><path d=\"M17.41 7.96l-1.37-1.37c-.4-.4-.92-.59-1.43-.59-.52 0-1.04.2-1.43.59L10.3 9.45l-7.72 7.72c-.78.78-.78 2.05 0 2.83L4 21.41c.39.39.9.59 1.41.59.51 0 1.02-.2 1.41-.59l7.78-7.78 2.81-2.81c.8-.78.8-2.07 0-2.86zM5.41 20L4 18.59l7.72-7.72 1.47 1.35L5.41 20z\"/>\n",
              "  </svg>\n",
              "      </button>\n",
              "      \n",
              "  <style>\n",
              "    .colab-df-container {\n",
              "      display:flex;\n",
              "      flex-wrap:wrap;\n",
              "      gap: 12px;\n",
              "    }\n",
              "\n",
              "    .colab-df-convert {\n",
              "      background-color: #E8F0FE;\n",
              "      border: none;\n",
              "      border-radius: 50%;\n",
              "      cursor: pointer;\n",
              "      display: none;\n",
              "      fill: #1967D2;\n",
              "      height: 32px;\n",
              "      padding: 0 0 0 0;\n",
              "      width: 32px;\n",
              "    }\n",
              "\n",
              "    .colab-df-convert:hover {\n",
              "      background-color: #E2EBFA;\n",
              "      box-shadow: 0px 1px 2px rgba(60, 64, 67, 0.3), 0px 1px 3px 1px rgba(60, 64, 67, 0.15);\n",
              "      fill: #174EA6;\n",
              "    }\n",
              "\n",
              "    [theme=dark] .colab-df-convert {\n",
              "      background-color: #3B4455;\n",
              "      fill: #D2E3FC;\n",
              "    }\n",
              "\n",
              "    [theme=dark] .colab-df-convert:hover {\n",
              "      background-color: #434B5C;\n",
              "      box-shadow: 0px 1px 3px 1px rgba(0, 0, 0, 0.15);\n",
              "      filter: drop-shadow(0px 1px 2px rgba(0, 0, 0, 0.3));\n",
              "      fill: #FFFFFF;\n",
              "    }\n",
              "  </style>\n",
              "\n",
              "      <script>\n",
              "        const buttonEl =\n",
              "          document.querySelector('#df-1df69bac-3139-4fdf-95b8-23fcf521ac5d button.colab-df-convert');\n",
              "        buttonEl.style.display =\n",
              "          google.colab.kernel.accessAllowed ? 'block' : 'none';\n",
              "\n",
              "        async function convertToInteractive(key) {\n",
              "          const element = document.querySelector('#df-1df69bac-3139-4fdf-95b8-23fcf521ac5d');\n",
              "          const dataTable =\n",
              "            await google.colab.kernel.invokeFunction('convertToInteractive',\n",
              "                                                     [key], {});\n",
              "          if (!dataTable) return;\n",
              "\n",
              "          const docLinkHtml = 'Like what you see? Visit the ' +\n",
              "            '<a target=\"_blank\" href=https://colab.research.google.com/notebooks/data_table.ipynb>data table notebook</a>'\n",
              "            + ' to learn more about interactive tables.';\n",
              "          element.innerHTML = '';\n",
              "          dataTable['output_type'] = 'display_data';\n",
              "          await google.colab.output.renderOutput(dataTable, element);\n",
              "          const docLink = document.createElement('div');\n",
              "          docLink.innerHTML = docLinkHtml;\n",
              "          element.appendChild(docLink);\n",
              "        }\n",
              "      </script>\n",
              "    </div>\n",
              "  </div>\n",
              "  "
            ],
            "text/plain": [
              "   Unnamed: 0          id             date   price  bedrooms  bathrooms  \\\n",
              "0           0  7129300520  20141013T000000  221900       3.0       1.00   \n",
              "1           1  6414100192  20141209T000000  538000       3.0       2.25   \n",
              "2           2  5631500400  20150225T000000  180000       2.0       1.00   \n",
              "3           3  2487200875  20141209T000000  604000       4.0       3.00   \n",
              "4           4  1954400510  20150218T000000  510000       3.0       2.00   \n",
              "\n",
              "   sqft_living  sqft_lot  floors  waterfront  ...  grade  sqft_above  \\\n",
              "0         1180      5650     1.0           0  ...      7        1180   \n",
              "1         2570      7242     2.0           0  ...      7        2170   \n",
              "2          770     10000     1.0           0  ...      6         770   \n",
              "3         1960      5000     1.0           0  ...      7        1050   \n",
              "4         1680      8080     1.0           0  ...      8        1680   \n",
              "\n",
              "   sqft_basement  yr_built  yr_renovated  zipcode      lat     long  \\\n",
              "0              0      1955             0    98178  47.5112 -122.257   \n",
              "1            400      1951          1991    98125  47.7210 -122.319   \n",
              "2              0      1933             0    98028  47.7379 -122.233   \n",
              "3            910      1965             0    98136  47.5208 -122.393   \n",
              "4              0      1987             0    98074  47.6168 -122.045   \n",
              "\n",
              "   sqft_living15  sqft_lot15  \n",
              "0           1340        5650  \n",
              "1           1690        7639  \n",
              "2           2720        8062  \n",
              "3           1360        5000  \n",
              "4           1800        7503  \n",
              "\n",
              "[5 rows x 22 columns]"
            ]
          },
          "execution_count": 3,
          "metadata": {},
          "output_type": "execute_result"
        }
      ],
      "source": [
        "dataset.head()"
      ]
    },
    {
      "cell_type": "code",
      "execution_count": null,
      "metadata": {
        "colab": {
          "base_uri": "https://localhost:8080/"
        },
        "id": "Mr53pDgTq1WF",
        "outputId": "2196709a-5de2-4261-c79f-3a8d88a3a761"
      },
      "outputs": [
        {
          "name": "stdout",
          "output_type": "stream",
          "text": [
            "<class 'pandas.core.frame.DataFrame'>\n",
            "RangeIndex: 21613 entries, 0 to 21612\n",
            "Data columns (total 22 columns):\n",
            " #   Column         Non-Null Count  Dtype  \n",
            "---  ------         --------------  -----  \n",
            " 0   Unnamed: 0     21613 non-null  int64  \n",
            " 1   id             21613 non-null  int64  \n",
            " 2   date           21613 non-null  object \n",
            " 3   price          21613 non-null  int64  \n",
            " 4   bedrooms       21600 non-null  float64\n",
            " 5   bathrooms      21603 non-null  float64\n",
            " 6   sqft_living    21613 non-null  int64  \n",
            " 7   sqft_lot       21613 non-null  int64  \n",
            " 8   floors         21613 non-null  float64\n",
            " 9   waterfront     21613 non-null  int64  \n",
            " 10  view           21613 non-null  int64  \n",
            " 11  condition      21613 non-null  int64  \n",
            " 12  grade          21613 non-null  int64  \n",
            " 13  sqft_above     21613 non-null  int64  \n",
            " 14  sqft_basement  21613 non-null  int64  \n",
            " 15  yr_built       21613 non-null  int64  \n",
            " 16  yr_renovated   21613 non-null  int64  \n",
            " 17  zipcode        21613 non-null  int64  \n",
            " 18  lat            21613 non-null  float64\n",
            " 19  long           21613 non-null  float64\n",
            " 20  sqft_living15  21613 non-null  int64  \n",
            " 21  sqft_lot15     21613 non-null  int64  \n",
            "dtypes: float64(5), int64(16), object(1)\n",
            "memory usage: 3.6+ MB\n"
          ]
        }
      ],
      "source": [
        "dataset.info()"
      ]
    },
    {
      "cell_type": "code",
      "execution_count": null,
      "metadata": {
        "colab": {
          "base_uri": "https://localhost:8080/"
        },
        "id": "edUJQDI61qiU",
        "outputId": "12c86771-1b5f-4d45-a926-ef0b7e5dfaca"
      },
      "outputs": [
        {
          "data": {
            "text/plain": [
              "Unnamed: 0       0\n",
              "id               0\n",
              "date             0\n",
              "price            0\n",
              "bedrooms         0\n",
              "bathrooms        0\n",
              "sqft_living      0\n",
              "sqft_lot         0\n",
              "floors           0\n",
              "waterfront       0\n",
              "view             0\n",
              "condition        0\n",
              "grade            0\n",
              "sqft_above       0\n",
              "sqft_basement    0\n",
              "yr_built         0\n",
              "yr_renovated     0\n",
              "zipcode          0\n",
              "lat              0\n",
              "long             0\n",
              "sqft_living15    0\n",
              "sqft_lot15       0\n",
              "dtype: int64"
            ]
          },
          "execution_count": 8,
          "metadata": {},
          "output_type": "execute_result"
        }
      ],
      "source": [
        "dataset.isna().sum()"
      ]
    },
    {
      "cell_type": "code",
      "execution_count": null,
      "metadata": {
        "colab": {
          "base_uri": "https://localhost:8080/"
        },
        "id": "FJTvGEdQs9GK",
        "outputId": "7e997976-ba5d-4db1-a8b3-f6d629065e1d"
      },
      "outputs": [
        {
          "name": "stderr",
          "output_type": "stream",
          "text": [
            "<ipython-input-7-603bc2456f5d>:2: FutureWarning: Dropping of nuisance columns in DataFrame reductions (with 'numeric_only=None') is deprecated; in a future version this will raise TypeError.  Select only valid columns before calling the reduction.\n",
            "  dataset = dataset.fillna(dataset.mean())\n"
          ]
        }
      ],
      "source": [
        "# Replace missing values\n",
        "dataset = dataset.fillna(dataset.mean())\n",
        "# print(dataset)"
      ]
    },
    {
      "cell_type": "code",
      "execution_count": null,
      "metadata": {
        "colab": {
          "base_uri": "https://localhost:8080/",
          "height": 505
        },
        "id": "l1VmiMkQpKSO",
        "outputId": "2418c20a-e9d4-4ec3-dfdb-68cd5a2b5015"
      },
      "outputs": [
        {
          "data": {
            "text/html": [
              "\n",
              "  <div id=\"df-4061d41e-5873-467f-858c-2e7da60fce86\">\n",
              "    <div class=\"colab-df-container\">\n",
              "      <div>\n",
              "<style scoped>\n",
              "    .dataframe tbody tr th:only-of-type {\n",
              "        vertical-align: middle;\n",
              "    }\n",
              "\n",
              "    .dataframe tbody tr th {\n",
              "        vertical-align: top;\n",
              "    }\n",
              "\n",
              "    .dataframe thead th {\n",
              "        text-align: right;\n",
              "    }\n",
              "</style>\n",
              "<table border=\"1\" class=\"dataframe\">\n",
              "  <thead>\n",
              "    <tr style=\"text-align: right;\">\n",
              "      <th></th>\n",
              "      <th>Unnamed: 0</th>\n",
              "      <th>id</th>\n",
              "      <th>date</th>\n",
              "      <th>price</th>\n",
              "      <th>bedrooms</th>\n",
              "      <th>bathrooms</th>\n",
              "      <th>sqft_living</th>\n",
              "      <th>sqft_lot</th>\n",
              "      <th>floors</th>\n",
              "      <th>waterfront</th>\n",
              "      <th>...</th>\n",
              "      <th>grade</th>\n",
              "      <th>sqft_above</th>\n",
              "      <th>sqft_basement</th>\n",
              "      <th>yr_built</th>\n",
              "      <th>yr_renovated</th>\n",
              "      <th>zipcode</th>\n",
              "      <th>lat</th>\n",
              "      <th>long</th>\n",
              "      <th>sqft_living15</th>\n",
              "      <th>sqft_lot15</th>\n",
              "    </tr>\n",
              "  </thead>\n",
              "  <tbody>\n",
              "    <tr>\n",
              "      <th>0</th>\n",
              "      <td>0</td>\n",
              "      <td>7129300520</td>\n",
              "      <td>20141013T000000</td>\n",
              "      <td>221900</td>\n",
              "      <td>3.0</td>\n",
              "      <td>1.00</td>\n",
              "      <td>1180</td>\n",
              "      <td>5650</td>\n",
              "      <td>1.0</td>\n",
              "      <td>0</td>\n",
              "      <td>...</td>\n",
              "      <td>7</td>\n",
              "      <td>1180</td>\n",
              "      <td>0</td>\n",
              "      <td>1955</td>\n",
              "      <td>0</td>\n",
              "      <td>98178</td>\n",
              "      <td>47.5112</td>\n",
              "      <td>-122.257</td>\n",
              "      <td>1340</td>\n",
              "      <td>5650</td>\n",
              "    </tr>\n",
              "    <tr>\n",
              "      <th>1</th>\n",
              "      <td>1</td>\n",
              "      <td>6414100192</td>\n",
              "      <td>20141209T000000</td>\n",
              "      <td>538000</td>\n",
              "      <td>3.0</td>\n",
              "      <td>2.25</td>\n",
              "      <td>2570</td>\n",
              "      <td>7242</td>\n",
              "      <td>2.0</td>\n",
              "      <td>0</td>\n",
              "      <td>...</td>\n",
              "      <td>7</td>\n",
              "      <td>2170</td>\n",
              "      <td>400</td>\n",
              "      <td>1951</td>\n",
              "      <td>1991</td>\n",
              "      <td>98125</td>\n",
              "      <td>47.7210</td>\n",
              "      <td>-122.319</td>\n",
              "      <td>1690</td>\n",
              "      <td>7639</td>\n",
              "    </tr>\n",
              "    <tr>\n",
              "      <th>2</th>\n",
              "      <td>2</td>\n",
              "      <td>5631500400</td>\n",
              "      <td>20150225T000000</td>\n",
              "      <td>180000</td>\n",
              "      <td>2.0</td>\n",
              "      <td>1.00</td>\n",
              "      <td>770</td>\n",
              "      <td>10000</td>\n",
              "      <td>1.0</td>\n",
              "      <td>0</td>\n",
              "      <td>...</td>\n",
              "      <td>6</td>\n",
              "      <td>770</td>\n",
              "      <td>0</td>\n",
              "      <td>1933</td>\n",
              "      <td>0</td>\n",
              "      <td>98028</td>\n",
              "      <td>47.7379</td>\n",
              "      <td>-122.233</td>\n",
              "      <td>2720</td>\n",
              "      <td>8062</td>\n",
              "    </tr>\n",
              "    <tr>\n",
              "      <th>3</th>\n",
              "      <td>3</td>\n",
              "      <td>2487200875</td>\n",
              "      <td>20141209T000000</td>\n",
              "      <td>604000</td>\n",
              "      <td>4.0</td>\n",
              "      <td>3.00</td>\n",
              "      <td>1960</td>\n",
              "      <td>5000</td>\n",
              "      <td>1.0</td>\n",
              "      <td>0</td>\n",
              "      <td>...</td>\n",
              "      <td>7</td>\n",
              "      <td>1050</td>\n",
              "      <td>910</td>\n",
              "      <td>1965</td>\n",
              "      <td>0</td>\n",
              "      <td>98136</td>\n",
              "      <td>47.5208</td>\n",
              "      <td>-122.393</td>\n",
              "      <td>1360</td>\n",
              "      <td>5000</td>\n",
              "    </tr>\n",
              "    <tr>\n",
              "      <th>4</th>\n",
              "      <td>4</td>\n",
              "      <td>1954400510</td>\n",
              "      <td>20150218T000000</td>\n",
              "      <td>510000</td>\n",
              "      <td>3.0</td>\n",
              "      <td>2.00</td>\n",
              "      <td>1680</td>\n",
              "      <td>8080</td>\n",
              "      <td>1.0</td>\n",
              "      <td>0</td>\n",
              "      <td>...</td>\n",
              "      <td>8</td>\n",
              "      <td>1680</td>\n",
              "      <td>0</td>\n",
              "      <td>1987</td>\n",
              "      <td>0</td>\n",
              "      <td>98074</td>\n",
              "      <td>47.6168</td>\n",
              "      <td>-122.045</td>\n",
              "      <td>1800</td>\n",
              "      <td>7503</td>\n",
              "    </tr>\n",
              "    <tr>\n",
              "      <th>...</th>\n",
              "      <td>...</td>\n",
              "      <td>...</td>\n",
              "      <td>...</td>\n",
              "      <td>...</td>\n",
              "      <td>...</td>\n",
              "      <td>...</td>\n",
              "      <td>...</td>\n",
              "      <td>...</td>\n",
              "      <td>...</td>\n",
              "      <td>...</td>\n",
              "      <td>...</td>\n",
              "      <td>...</td>\n",
              "      <td>...</td>\n",
              "      <td>...</td>\n",
              "      <td>...</td>\n",
              "      <td>...</td>\n",
              "      <td>...</td>\n",
              "      <td>...</td>\n",
              "      <td>...</td>\n",
              "      <td>...</td>\n",
              "      <td>...</td>\n",
              "    </tr>\n",
              "    <tr>\n",
              "      <th>21608</th>\n",
              "      <td>21608</td>\n",
              "      <td>263000018</td>\n",
              "      <td>20140521T000000</td>\n",
              "      <td>360000</td>\n",
              "      <td>3.0</td>\n",
              "      <td>2.50</td>\n",
              "      <td>1530</td>\n",
              "      <td>1131</td>\n",
              "      <td>3.0</td>\n",
              "      <td>0</td>\n",
              "      <td>...</td>\n",
              "      <td>8</td>\n",
              "      <td>1530</td>\n",
              "      <td>0</td>\n",
              "      <td>2009</td>\n",
              "      <td>0</td>\n",
              "      <td>98103</td>\n",
              "      <td>47.6993</td>\n",
              "      <td>-122.346</td>\n",
              "      <td>1530</td>\n",
              "      <td>1509</td>\n",
              "    </tr>\n",
              "    <tr>\n",
              "      <th>21609</th>\n",
              "      <td>21609</td>\n",
              "      <td>6600060120</td>\n",
              "      <td>20150223T000000</td>\n",
              "      <td>400000</td>\n",
              "      <td>4.0</td>\n",
              "      <td>2.50</td>\n",
              "      <td>2310</td>\n",
              "      <td>5813</td>\n",
              "      <td>2.0</td>\n",
              "      <td>0</td>\n",
              "      <td>...</td>\n",
              "      <td>8</td>\n",
              "      <td>2310</td>\n",
              "      <td>0</td>\n",
              "      <td>2014</td>\n",
              "      <td>0</td>\n",
              "      <td>98146</td>\n",
              "      <td>47.5107</td>\n",
              "      <td>-122.362</td>\n",
              "      <td>1830</td>\n",
              "      <td>7200</td>\n",
              "    </tr>\n",
              "    <tr>\n",
              "      <th>21610</th>\n",
              "      <td>21610</td>\n",
              "      <td>1523300141</td>\n",
              "      <td>20140623T000000</td>\n",
              "      <td>402101</td>\n",
              "      <td>2.0</td>\n",
              "      <td>0.75</td>\n",
              "      <td>1020</td>\n",
              "      <td>1350</td>\n",
              "      <td>2.0</td>\n",
              "      <td>0</td>\n",
              "      <td>...</td>\n",
              "      <td>7</td>\n",
              "      <td>1020</td>\n",
              "      <td>0</td>\n",
              "      <td>2009</td>\n",
              "      <td>0</td>\n",
              "      <td>98144</td>\n",
              "      <td>47.5944</td>\n",
              "      <td>-122.299</td>\n",
              "      <td>1020</td>\n",
              "      <td>2007</td>\n",
              "    </tr>\n",
              "    <tr>\n",
              "      <th>21611</th>\n",
              "      <td>21611</td>\n",
              "      <td>291310100</td>\n",
              "      <td>20150116T000000</td>\n",
              "      <td>400000</td>\n",
              "      <td>3.0</td>\n",
              "      <td>2.50</td>\n",
              "      <td>1600</td>\n",
              "      <td>2388</td>\n",
              "      <td>2.0</td>\n",
              "      <td>0</td>\n",
              "      <td>...</td>\n",
              "      <td>8</td>\n",
              "      <td>1600</td>\n",
              "      <td>0</td>\n",
              "      <td>2004</td>\n",
              "      <td>0</td>\n",
              "      <td>98027</td>\n",
              "      <td>47.5345</td>\n",
              "      <td>-122.069</td>\n",
              "      <td>1410</td>\n",
              "      <td>1287</td>\n",
              "    </tr>\n",
              "    <tr>\n",
              "      <th>21612</th>\n",
              "      <td>21612</td>\n",
              "      <td>1523300157</td>\n",
              "      <td>20141015T000000</td>\n",
              "      <td>325000</td>\n",
              "      <td>2.0</td>\n",
              "      <td>0.75</td>\n",
              "      <td>1020</td>\n",
              "      <td>1076</td>\n",
              "      <td>2.0</td>\n",
              "      <td>0</td>\n",
              "      <td>...</td>\n",
              "      <td>7</td>\n",
              "      <td>1020</td>\n",
              "      <td>0</td>\n",
              "      <td>2008</td>\n",
              "      <td>0</td>\n",
              "      <td>98144</td>\n",
              "      <td>47.5941</td>\n",
              "      <td>-122.299</td>\n",
              "      <td>1020</td>\n",
              "      <td>1357</td>\n",
              "    </tr>\n",
              "  </tbody>\n",
              "</table>\n",
              "<p>21613 rows × 22 columns</p>\n",
              "</div>\n",
              "      <button class=\"colab-df-convert\" onclick=\"convertToInteractive('df-4061d41e-5873-467f-858c-2e7da60fce86')\"\n",
              "              title=\"Convert this dataframe to an interactive table.\"\n",
              "              style=\"display:none;\">\n",
              "        \n",
              "  <svg xmlns=\"http://www.w3.org/2000/svg\" height=\"24px\"viewBox=\"0 0 24 24\"\n",
              "       width=\"24px\">\n",
              "    <path d=\"M0 0h24v24H0V0z\" fill=\"none\"/>\n",
              "    <path d=\"M18.56 5.44l.94 2.06.94-2.06 2.06-.94-2.06-.94-.94-2.06-.94 2.06-2.06.94zm-11 1L8.5 8.5l.94-2.06 2.06-.94-2.06-.94L8.5 2.5l-.94 2.06-2.06.94zm10 10l.94 2.06.94-2.06 2.06-.94-2.06-.94-.94-2.06-.94 2.06-2.06.94z\"/><path d=\"M17.41 7.96l-1.37-1.37c-.4-.4-.92-.59-1.43-.59-.52 0-1.04.2-1.43.59L10.3 9.45l-7.72 7.72c-.78.78-.78 2.05 0 2.83L4 21.41c.39.39.9.59 1.41.59.51 0 1.02-.2 1.41-.59l7.78-7.78 2.81-2.81c.8-.78.8-2.07 0-2.86zM5.41 20L4 18.59l7.72-7.72 1.47 1.35L5.41 20z\"/>\n",
              "  </svg>\n",
              "      </button>\n",
              "      \n",
              "  <style>\n",
              "    .colab-df-container {\n",
              "      display:flex;\n",
              "      flex-wrap:wrap;\n",
              "      gap: 12px;\n",
              "    }\n",
              "\n",
              "    .colab-df-convert {\n",
              "      background-color: #E8F0FE;\n",
              "      border: none;\n",
              "      border-radius: 50%;\n",
              "      cursor: pointer;\n",
              "      display: none;\n",
              "      fill: #1967D2;\n",
              "      height: 32px;\n",
              "      padding: 0 0 0 0;\n",
              "      width: 32px;\n",
              "    }\n",
              "\n",
              "    .colab-df-convert:hover {\n",
              "      background-color: #E2EBFA;\n",
              "      box-shadow: 0px 1px 2px rgba(60, 64, 67, 0.3), 0px 1px 3px 1px rgba(60, 64, 67, 0.15);\n",
              "      fill: #174EA6;\n",
              "    }\n",
              "\n",
              "    [theme=dark] .colab-df-convert {\n",
              "      background-color: #3B4455;\n",
              "      fill: #D2E3FC;\n",
              "    }\n",
              "\n",
              "    [theme=dark] .colab-df-convert:hover {\n",
              "      background-color: #434B5C;\n",
              "      box-shadow: 0px 1px 3px 1px rgba(0, 0, 0, 0.15);\n",
              "      filter: drop-shadow(0px 1px 2px rgba(0, 0, 0, 0.3));\n",
              "      fill: #FFFFFF;\n",
              "    }\n",
              "  </style>\n",
              "\n",
              "      <script>\n",
              "        const buttonEl =\n",
              "          document.querySelector('#df-4061d41e-5873-467f-858c-2e7da60fce86 button.colab-df-convert');\n",
              "        buttonEl.style.display =\n",
              "          google.colab.kernel.accessAllowed ? 'block' : 'none';\n",
              "\n",
              "        async function convertToInteractive(key) {\n",
              "          const element = document.querySelector('#df-4061d41e-5873-467f-858c-2e7da60fce86');\n",
              "          const dataTable =\n",
              "            await google.colab.kernel.invokeFunction('convertToInteractive',\n",
              "                                                     [key], {});\n",
              "          if (!dataTable) return;\n",
              "\n",
              "          const docLinkHtml = 'Like what you see? Visit the ' +\n",
              "            '<a target=\"_blank\" href=https://colab.research.google.com/notebooks/data_table.ipynb>data table notebook</a>'\n",
              "            + ' to learn more about interactive tables.';\n",
              "          element.innerHTML = '';\n",
              "          dataTable['output_type'] = 'display_data';\n",
              "          await google.colab.output.renderOutput(dataTable, element);\n",
              "          const docLink = document.createElement('div');\n",
              "          docLink.innerHTML = docLinkHtml;\n",
              "          element.appendChild(docLink);\n",
              "        }\n",
              "      </script>\n",
              "    </div>\n",
              "  </div>\n",
              "  "
            ],
            "text/plain": [
              "       Unnamed: 0          id             date   price  bedrooms  bathrooms  \\\n",
              "0               0  7129300520  20141013T000000  221900       3.0       1.00   \n",
              "1               1  6414100192  20141209T000000  538000       3.0       2.25   \n",
              "2               2  5631500400  20150225T000000  180000       2.0       1.00   \n",
              "3               3  2487200875  20141209T000000  604000       4.0       3.00   \n",
              "4               4  1954400510  20150218T000000  510000       3.0       2.00   \n",
              "...           ...         ...              ...     ...       ...        ...   \n",
              "21608       21608   263000018  20140521T000000  360000       3.0       2.50   \n",
              "21609       21609  6600060120  20150223T000000  400000       4.0       2.50   \n",
              "21610       21610  1523300141  20140623T000000  402101       2.0       0.75   \n",
              "21611       21611   291310100  20150116T000000  400000       3.0       2.50   \n",
              "21612       21612  1523300157  20141015T000000  325000       2.0       0.75   \n",
              "\n",
              "       sqft_living  sqft_lot  floors  waterfront  ...  grade  sqft_above  \\\n",
              "0             1180      5650     1.0           0  ...      7        1180   \n",
              "1             2570      7242     2.0           0  ...      7        2170   \n",
              "2              770     10000     1.0           0  ...      6         770   \n",
              "3             1960      5000     1.0           0  ...      7        1050   \n",
              "4             1680      8080     1.0           0  ...      8        1680   \n",
              "...            ...       ...     ...         ...  ...    ...         ...   \n",
              "21608         1530      1131     3.0           0  ...      8        1530   \n",
              "21609         2310      5813     2.0           0  ...      8        2310   \n",
              "21610         1020      1350     2.0           0  ...      7        1020   \n",
              "21611         1600      2388     2.0           0  ...      8        1600   \n",
              "21612         1020      1076     2.0           0  ...      7        1020   \n",
              "\n",
              "       sqft_basement  yr_built  yr_renovated  zipcode      lat     long  \\\n",
              "0                  0      1955             0    98178  47.5112 -122.257   \n",
              "1                400      1951          1991    98125  47.7210 -122.319   \n",
              "2                  0      1933             0    98028  47.7379 -122.233   \n",
              "3                910      1965             0    98136  47.5208 -122.393   \n",
              "4                  0      1987             0    98074  47.6168 -122.045   \n",
              "...              ...       ...           ...      ...      ...      ...   \n",
              "21608              0      2009             0    98103  47.6993 -122.346   \n",
              "21609              0      2014             0    98146  47.5107 -122.362   \n",
              "21610              0      2009             0    98144  47.5944 -122.299   \n",
              "21611              0      2004             0    98027  47.5345 -122.069   \n",
              "21612              0      2008             0    98144  47.5941 -122.299   \n",
              "\n",
              "       sqft_living15  sqft_lot15  \n",
              "0               1340        5650  \n",
              "1               1690        7639  \n",
              "2               2720        8062  \n",
              "3               1360        5000  \n",
              "4               1800        7503  \n",
              "...              ...         ...  \n",
              "21608           1530        1509  \n",
              "21609           1830        7200  \n",
              "21610           1020        2007  \n",
              "21611           1410        1287  \n",
              "21612           1020        1357  \n",
              "\n",
              "[21613 rows x 22 columns]"
            ]
          },
          "execution_count": 99,
          "metadata": {},
          "output_type": "execute_result"
        }
      ],
      "source": [
        "dataset"
      ]
    },
    {
      "cell_type": "markdown",
      "metadata": {
        "id": "fozN80K115Jd"
      },
      "source": [
        "#Univariate Regression"
      ]
    },
    {
      "cell_type": "code",
      "execution_count": null,
      "metadata": {
        "id": "Z0opk9Wt2PCK"
      },
      "outputs": [],
      "source": [
        "x_data = dataset['sqft_living']\n",
        "y_data = dataset['price']"
      ]
    },
    {
      "cell_type": "code",
      "execution_count": null,
      "metadata": {
        "colab": {
          "base_uri": "https://localhost:8080/"
        },
        "id": "HbQi1sW33bl7",
        "outputId": "b6096c60-f64c-4216-b1d8-b974715ede8d"
      },
      "outputs": [
        {
          "data": {
            "text/plain": [
              "0        1180\n",
              "1        2570\n",
              "2         770\n",
              "3        1960\n",
              "4        1680\n",
              "         ... \n",
              "21608    1530\n",
              "21609    2310\n",
              "21610    1020\n",
              "21611    1600\n",
              "21612    1020\n",
              "Name: sqft_living, Length: 21613, dtype: int64"
            ]
          },
          "execution_count": 101,
          "metadata": {},
          "output_type": "execute_result"
        }
      ],
      "source": [
        "x_data"
      ]
    },
    {
      "cell_type": "code",
      "execution_count": null,
      "metadata": {
        "colab": {
          "base_uri": "https://localhost:8080/"
        },
        "id": "YnRegTdw2cD4",
        "outputId": "fe5444ac-e639-45b8-de5d-f4ccadef09ac"
      },
      "outputs": [
        {
          "name": "stdout",
          "output_type": "stream",
          "text": [
            "[[1180]\n",
            " [2570]\n",
            " [ 770]\n",
            " ...\n",
            " [1020]\n",
            " [1600]\n",
            " [1020]]\n"
          ]
        }
      ],
      "source": [
        "# Create each single feature as a vector\n",
        "x_data = np.array(x_data).reshape((-1,1))\n",
        "print(x_data)"
      ]
    },
    {
      "cell_type": "code",
      "execution_count": null,
      "metadata": {
        "colab": {
          "base_uri": "https://localhost:8080/"
        },
        "id": "gizLmb8at3aG",
        "outputId": "d27a6e3b-d154-46a0-f89c-3998752e1404"
      },
      "outputs": [
        {
          "name": "stdout",
          "output_type": "stream",
          "text": [
            "shape of training samples: (18371, 1)\n",
            "shape of test samples : (3242, 1)\n",
            "shape of train labels : (18371,)\n",
            "shape of test labels: (3242,)\n"
          ]
        }
      ],
      "source": [
        "from sklearn.model_selection import train_test_split\n",
        "\n",
        "x_train, x_test, y_train, y_test = train_test_split(x_data, y_data, test_size=0.15, random_state=1)\n",
        "\n",
        "\n",
        "print(\"shape of training samples:\",x_train.shape)\n",
        "print(\"shape of test samples :\", x_test.shape)\n",
        "print(\"shape of train labels :\", y_train.shape)\n",
        "print(\"shape of test labels:\",y_test.shape)\n",
        "\n"
      ]
    },
    {
      "cell_type": "code",
      "execution_count": null,
      "metadata": {
        "id": "VaadfoAUsfkw"
      },
      "outputs": [],
      "source": [
        "import matplotlib.pyplot as plt\n",
        "from sklearn.linear_model import LinearRegression"
      ]
    },
    {
      "cell_type": "code",
      "execution_count": null,
      "metadata": {
        "colab": {
          "base_uri": "https://localhost:8080/"
        },
        "id": "K--5EU573sDE",
        "outputId": "b50d72b5-7120-4b01-c4b6-1a423e7a7b3e"
      },
      "outputs": [
        {
          "data": {
            "text/plain": [
              "LinearRegression()"
            ]
          },
          "execution_count": 105,
          "metadata": {},
          "output_type": "execute_result"
        }
      ],
      "source": [
        "from numpy.ma.core import nonzero\n",
        "lre=LinearRegression()\n",
        "\n",
        "lre.fit(x_train,y_train)"
      ]
    },
    {
      "cell_type": "code",
      "execution_count": null,
      "metadata": {
        "colab": {
          "base_uri": "https://localhost:8080/"
        },
        "id": "_VURRmviw9Ok",
        "outputId": "3c916cdc-0c4a-47ce-884b-541c4851b8ce"
      },
      "outputs": [
        {
          "name": "stdout",
          "output_type": "stream",
          "text": [
            "Intercept is  -43250.41440399282 \n",
            " Coef is [280.46173263]\n"
          ]
        }
      ],
      "source": [
        "print(\"Intercept is \",lre.intercept_,\"\\n\",\"Coef is\",lre.coef_)"
      ]
    },
    {
      "cell_type": "code",
      "execution_count": null,
      "metadata": {
        "colab": {
          "base_uri": "https://localhost:8080/"
        },
        "id": "uT2eTaqExK6f",
        "outputId": "d714b407-bc81-4e07-a9f8-5f2512716a4c"
      },
      "outputs": [
        {
          "name": "stdout",
          "output_type": "stream",
          "text": [
            "R Square value is  0.4910058627910613\n"
          ]
        }
      ],
      "source": [
        "r_squared = lre.score(x_test, y_test)\n",
        "print(\"R Square value is \",r_squared)"
      ]
    },
    {
      "cell_type": "code",
      "execution_count": null,
      "metadata": {
        "colab": {
          "base_uri": "https://localhost:8080/"
        },
        "id": "uJX8CMzOyT5q",
        "outputId": "96ff2596-66dd-4398-c728-3c3160625c47"
      },
      "outputs": [
        {
          "name": "stdout",
          "output_type": "stream",
          "text": [
            "predicted response:\n",
            "[739237.81962359 413902.209777   621443.89192051 ... 601811.57063667\n",
            " 643880.83053062 489626.87758612]\n"
          ]
        }
      ],
      "source": [
        "\n",
        "y_pred = lre.predict(x_test)\n",
        "print(f\"predicted response:\\n{y_pred}\")"
      ]
    },
    {
      "cell_type": "code",
      "execution_count": null,
      "metadata": {
        "colab": {
          "base_uri": "https://localhost:8080/"
        },
        "id": "jl0VZUbZ4AOC",
        "outputId": "dc496e90-e78a-4a34-e4f3-2fa49a9d4b89"
      },
      "outputs": [
        {
          "name": "stdout",
          "output_type": "stream",
          "text": [
            "MSE is: 74744588930.51276\n",
            "RMSE is: 273394.5663880553\n",
            "R_squared is: 0.4910058627910613\n"
          ]
        }
      ],
      "source": [
        "from sklearn.metrics import mean_squared_error\n",
        "MSE = mean_squared_error(y_test, y_pred)\n",
        "RMSE = mean_squared_error(y_test, y_pred, squared=False)\n",
        "print(\"MSE is:\", MSE)\n",
        "print(\"RMSE is:\", RMSE)\n",
        "print(\"R_squared is:\", r_squared)"
      ]
    },
    {
      "cell_type": "markdown",
      "metadata": {
        "id": "0uXlGI44ufMC"
      },
      "source": [
        "# Multivariate Regression"
      ]
    },
    {
      "cell_type": "code",
      "execution_count": null,
      "metadata": {
        "id": "AllEUmCMvY2l"
      },
      "outputs": [],
      "source": [
        "x_data = dataset[[ 'bedrooms','bathrooms','sqft_living']]\n",
        "y_data = dataset['price']"
      ]
    },
    {
      "cell_type": "code",
      "execution_count": null,
      "metadata": {
        "colab": {
          "base_uri": "https://localhost:8080/",
          "height": 206
        },
        "id": "NT_-0li945Os",
        "outputId": "6835e8d0-6109-4799-c8c5-325de06c466d"
      },
      "outputs": [
        {
          "data": {
            "text/html": [
              "\n",
              "  <div id=\"df-ace582f5-9b30-4442-9dc2-8ea0ca9e1054\">\n",
              "    <div class=\"colab-df-container\">\n",
              "      <div>\n",
              "<style scoped>\n",
              "    .dataframe tbody tr th:only-of-type {\n",
              "        vertical-align: middle;\n",
              "    }\n",
              "\n",
              "    .dataframe tbody tr th {\n",
              "        vertical-align: top;\n",
              "    }\n",
              "\n",
              "    .dataframe thead th {\n",
              "        text-align: right;\n",
              "    }\n",
              "</style>\n",
              "<table border=\"1\" class=\"dataframe\">\n",
              "  <thead>\n",
              "    <tr style=\"text-align: right;\">\n",
              "      <th></th>\n",
              "      <th>bedrooms</th>\n",
              "      <th>bathrooms</th>\n",
              "      <th>sqft_living</th>\n",
              "    </tr>\n",
              "  </thead>\n",
              "  <tbody>\n",
              "    <tr>\n",
              "      <th>0</th>\n",
              "      <td>3.0</td>\n",
              "      <td>1.00</td>\n",
              "      <td>1180</td>\n",
              "    </tr>\n",
              "    <tr>\n",
              "      <th>1</th>\n",
              "      <td>3.0</td>\n",
              "      <td>2.25</td>\n",
              "      <td>2570</td>\n",
              "    </tr>\n",
              "    <tr>\n",
              "      <th>2</th>\n",
              "      <td>2.0</td>\n",
              "      <td>1.00</td>\n",
              "      <td>770</td>\n",
              "    </tr>\n",
              "    <tr>\n",
              "      <th>3</th>\n",
              "      <td>4.0</td>\n",
              "      <td>3.00</td>\n",
              "      <td>1960</td>\n",
              "    </tr>\n",
              "    <tr>\n",
              "      <th>4</th>\n",
              "      <td>3.0</td>\n",
              "      <td>2.00</td>\n",
              "      <td>1680</td>\n",
              "    </tr>\n",
              "  </tbody>\n",
              "</table>\n",
              "</div>\n",
              "      <button class=\"colab-df-convert\" onclick=\"convertToInteractive('df-ace582f5-9b30-4442-9dc2-8ea0ca9e1054')\"\n",
              "              title=\"Convert this dataframe to an interactive table.\"\n",
              "              style=\"display:none;\">\n",
              "        \n",
              "  <svg xmlns=\"http://www.w3.org/2000/svg\" height=\"24px\"viewBox=\"0 0 24 24\"\n",
              "       width=\"24px\">\n",
              "    <path d=\"M0 0h24v24H0V0z\" fill=\"none\"/>\n",
              "    <path d=\"M18.56 5.44l.94 2.06.94-2.06 2.06-.94-2.06-.94-.94-2.06-.94 2.06-2.06.94zm-11 1L8.5 8.5l.94-2.06 2.06-.94-2.06-.94L8.5 2.5l-.94 2.06-2.06.94zm10 10l.94 2.06.94-2.06 2.06-.94-2.06-.94-.94-2.06-.94 2.06-2.06.94z\"/><path d=\"M17.41 7.96l-1.37-1.37c-.4-.4-.92-.59-1.43-.59-.52 0-1.04.2-1.43.59L10.3 9.45l-7.72 7.72c-.78.78-.78 2.05 0 2.83L4 21.41c.39.39.9.59 1.41.59.51 0 1.02-.2 1.41-.59l7.78-7.78 2.81-2.81c.8-.78.8-2.07 0-2.86zM5.41 20L4 18.59l7.72-7.72 1.47 1.35L5.41 20z\"/>\n",
              "  </svg>\n",
              "      </button>\n",
              "      \n",
              "  <style>\n",
              "    .colab-df-container {\n",
              "      display:flex;\n",
              "      flex-wrap:wrap;\n",
              "      gap: 12px;\n",
              "    }\n",
              "\n",
              "    .colab-df-convert {\n",
              "      background-color: #E8F0FE;\n",
              "      border: none;\n",
              "      border-radius: 50%;\n",
              "      cursor: pointer;\n",
              "      display: none;\n",
              "      fill: #1967D2;\n",
              "      height: 32px;\n",
              "      padding: 0 0 0 0;\n",
              "      width: 32px;\n",
              "    }\n",
              "\n",
              "    .colab-df-convert:hover {\n",
              "      background-color: #E2EBFA;\n",
              "      box-shadow: 0px 1px 2px rgba(60, 64, 67, 0.3), 0px 1px 3px 1px rgba(60, 64, 67, 0.15);\n",
              "      fill: #174EA6;\n",
              "    }\n",
              "\n",
              "    [theme=dark] .colab-df-convert {\n",
              "      background-color: #3B4455;\n",
              "      fill: #D2E3FC;\n",
              "    }\n",
              "\n",
              "    [theme=dark] .colab-df-convert:hover {\n",
              "      background-color: #434B5C;\n",
              "      box-shadow: 0px 1px 3px 1px rgba(0, 0, 0, 0.15);\n",
              "      filter: drop-shadow(0px 1px 2px rgba(0, 0, 0, 0.3));\n",
              "      fill: #FFFFFF;\n",
              "    }\n",
              "  </style>\n",
              "\n",
              "      <script>\n",
              "        const buttonEl =\n",
              "          document.querySelector('#df-ace582f5-9b30-4442-9dc2-8ea0ca9e1054 button.colab-df-convert');\n",
              "        buttonEl.style.display =\n",
              "          google.colab.kernel.accessAllowed ? 'block' : 'none';\n",
              "\n",
              "        async function convertToInteractive(key) {\n",
              "          const element = document.querySelector('#df-ace582f5-9b30-4442-9dc2-8ea0ca9e1054');\n",
              "          const dataTable =\n",
              "            await google.colab.kernel.invokeFunction('convertToInteractive',\n",
              "                                                     [key], {});\n",
              "          if (!dataTable) return;\n",
              "\n",
              "          const docLinkHtml = 'Like what you see? Visit the ' +\n",
              "            '<a target=\"_blank\" href=https://colab.research.google.com/notebooks/data_table.ipynb>data table notebook</a>'\n",
              "            + ' to learn more about interactive tables.';\n",
              "          element.innerHTML = '';\n",
              "          dataTable['output_type'] = 'display_data';\n",
              "          await google.colab.output.renderOutput(dataTable, element);\n",
              "          const docLink = document.createElement('div');\n",
              "          docLink.innerHTML = docLinkHtml;\n",
              "          element.appendChild(docLink);\n",
              "        }\n",
              "      </script>\n",
              "    </div>\n",
              "  </div>\n",
              "  "
            ],
            "text/plain": [
              "   bedrooms  bathrooms  sqft_living\n",
              "0       3.0       1.00         1180\n",
              "1       3.0       2.25         2570\n",
              "2       2.0       1.00          770\n",
              "3       4.0       3.00         1960\n",
              "4       3.0       2.00         1680"
            ]
          },
          "execution_count": 111,
          "metadata": {},
          "output_type": "execute_result"
        }
      ],
      "source": [
        "x_data.head()"
      ]
    },
    {
      "cell_type": "code",
      "execution_count": null,
      "metadata": {
        "colab": {
          "base_uri": "https://localhost:8080/"
        },
        "id": "xKCZy9us4pt9",
        "outputId": "45a4b82e-7449-46a2-e45d-6ba9b0806b9e"
      },
      "outputs": [
        {
          "name": "stdout",
          "output_type": "stream",
          "text": [
            "shape of training samples: (18371, 3)\n",
            "shape of test samples : (3242, 3)\n",
            "shape of train labels : (18371,)\n",
            "shape of test labels: (3242,)\n"
          ]
        }
      ],
      "source": [
        "from sklearn.model_selection import train_test_split\n",
        "\n",
        "x_train, x_test, y_train, y_test = train_test_split(x_data, y_data, test_size=0.15, random_state=1)\n",
        "\n",
        "\n",
        "print(\"shape of training samples:\",x_train.shape)\n",
        "print(\"shape of test samples :\", x_test.shape)\n",
        "print(\"shape of train labels :\", y_train.shape)\n",
        "print(\"shape of test labels:\",y_test.shape)"
      ]
    },
    {
      "cell_type": "code",
      "execution_count": null,
      "metadata": {
        "colab": {
          "base_uri": "https://localhost:8080/"
        },
        "id": "qWLaQVWf49rS",
        "outputId": "39c864ee-b610-4ace-9624-36588db74704"
      },
      "outputs": [
        {
          "data": {
            "text/plain": [
              "LinearRegression()"
            ]
          },
          "execution_count": 113,
          "metadata": {},
          "output_type": "execute_result"
        }
      ],
      "source": [
        "import matplotlib.pyplot as plt\n",
        "from sklearn.linear_model import LinearRegression\n",
        "lre=LinearRegression()\n",
        "\n",
        "lre.fit(x_train,y_train)"
      ]
    },
    {
      "cell_type": "code",
      "execution_count": null,
      "metadata": {
        "colab": {
          "base_uri": "https://localhost:8080/"
        },
        "id": "00rQVm_w5GHf",
        "outputId": "54de43d4-0fde-4807-c4f5-d67e173adc7a"
      },
      "outputs": [
        {
          "name": "stdout",
          "output_type": "stream",
          "text": [
            "Intercept is  72899.24160187307 \n",
            " Coefficients are [-57515.38296981   9367.46131626    308.26888851]\n"
          ]
        }
      ],
      "source": [
        "print(\"Intercept is \",lre.intercept_,\"\\n\",\"Coefficients are\",lre.coef_)"
      ]
    },
    {
      "cell_type": "code",
      "execution_count": null,
      "metadata": {
        "colab": {
          "base_uri": "https://localhost:8080/"
        },
        "id": "4dI88_Wf5J-z",
        "outputId": "cc3456c0-e155-4776-9d8a-b44692c6968d"
      },
      "outputs": [
        {
          "name": "stdout",
          "output_type": "stream",
          "text": [
            "R Square value is  0.5058362894062202\n"
          ]
        }
      ],
      "source": [
        "r_squared = lre.score(x_test, y_test)\n",
        "print(\"R Square value is \",r_squared)"
      ]
    },
    {
      "cell_type": "code",
      "execution_count": null,
      "metadata": {
        "colab": {
          "base_uri": "https://localhost:8080/"
        },
        "id": "DuUiaFvG5O7O",
        "outputId": "546a01b1-25f2-4e7a-d485-0bd104456d4f"
      },
      "outputs": [
        {
          "name": "stdout",
          "output_type": "stream",
          "text": [
            "predicted response:\n",
            "[728668.42729349 423908.16893015 702516.93341234 ... 625764.59357569\n",
            " 621515.13987002 507140.76882864]\n"
          ]
        }
      ],
      "source": [
        "\n",
        "y_pred = lre.predict(x_test)\n",
        "print(f\"predicted response:\\n{y_pred}\")"
      ]
    },
    {
      "cell_type": "code",
      "execution_count": null,
      "metadata": {
        "colab": {
          "base_uri": "https://localhost:8080/"
        },
        "id": "wL7sRwHc5RRN",
        "outputId": "6c7be37c-0967-47fe-83ca-87bfca1d00f8"
      },
      "outputs": [
        {
          "name": "stdout",
          "output_type": "stream",
          "text": [
            "MSE is: 72566775749.61328\n",
            "RMSE is: 269382.21127166745\n",
            "R_squared is: 0.5058362894062202\n"
          ]
        }
      ],
      "source": [
        "from sklearn.metrics import mean_squared_error\n",
        "MSE = mean_squared_error(y_test, y_pred)\n",
        "RMSE = mean_squared_error(y_test, y_pred, squared=False)\n",
        "print(\"MSE is:\", MSE)\n",
        "print(\"RMSE is:\", RMSE)\n",
        "print(\"R_squared is:\", r_squared)"
      ]
    },
    {
      "cell_type": "markdown",
      "metadata": {
        "id": "ygWwihk95AEg"
      },
      "source": [
        "# Observe Variance Inflation Factor(VIF)\n"
      ]
    },
    {
      "cell_type": "code",
      "execution_count": null,
      "metadata": {
        "colab": {
          "base_uri": "https://localhost:8080/"
        },
        "id": "vyuC7Ia3-Kpx",
        "outputId": "47e296b1-ff07-485c-d790-5f8692e41cdf"
      },
      "outputs": [
        {
          "name": "stdout",
          "output_type": "stream",
          "text": [
            "Looking in indexes: https://pypi.org/simple, https://us-python.pkg.dev/colab-wheels/public/simple/\n",
            "Requirement already satisfied: statsmodels in /usr/local/lib/python3.8/dist-packages (0.13.5)\n",
            "Requirement already satisfied: scipy>=1.3 in /usr/local/lib/python3.8/dist-packages (from statsmodels) (1.7.3)\n",
            "Requirement already satisfied: numpy>=1.17 in /usr/local/lib/python3.8/dist-packages (from statsmodels) (1.22.4)\n",
            "Requirement already satisfied: pandas>=0.25 in /usr/local/lib/python3.8/dist-packages (from statsmodels) (1.3.5)\n",
            "Requirement already satisfied: patsy>=0.5.2 in /usr/local/lib/python3.8/dist-packages (from statsmodels) (0.5.3)\n",
            "Requirement already satisfied: packaging>=21.3 in /usr/local/lib/python3.8/dist-packages (from statsmodels) (23.0)\n",
            "Requirement already satisfied: python-dateutil>=2.7.3 in /usr/local/lib/python3.8/dist-packages (from pandas>=0.25->statsmodels) (2.8.2)\n",
            "Requirement already satisfied: pytz>=2017.3 in /usr/local/lib/python3.8/dist-packages (from pandas>=0.25->statsmodels) (2022.7.1)\n",
            "Requirement already satisfied: six in /usr/local/lib/python3.8/dist-packages (from patsy>=0.5.2->statsmodels) (1.15.0)\n"
          ]
        }
      ],
      "source": [
        "!pip install statsmodels --upgrade"
      ]
    },
    {
      "cell_type": "code",
      "execution_count": null,
      "metadata": {
        "colab": {
          "base_uri": "https://localhost:8080/"
        },
        "id": "WNVovyVF5A0Q",
        "outputId": "6a5ec93d-4d1f-4afb-88b2-a78928a1dfc3"
      },
      "outputs": [
        {
          "name": "stdout",
          "output_type": "stream",
          "text": [
            "   VIF Factor    predictor\n",
            "0   15.705003        const\n",
            "1    2.628055  sqft_living\n",
            "2    1.534145     bedrooms\n",
            "3    2.378767    bathrooms\n"
          ]
        }
      ],
      "source": [
        "from statsmodels.stats.outliers_influence import variance_inflation_factor  \n",
        "import statsmodels.api as sm\n",
        "\n",
        "X = dataset[['sqft_living', 'bedrooms', 'bathrooms']]\n",
        "y = dataset['price']\n",
        "\n",
        "# Add constant to predictor variables for intercept term\n",
        "X = sm.add_constant(X)\n",
        "\n",
        "# Compute VIF for each predictor variable\n",
        "vif = pd.DataFrame()\n",
        "vif[\"VIF Factor\"] = [variance_inflation_factor(X.values, i) for i in range(X.shape[1])]\n",
        "vif[\"predictor\"] = X.columns\n",
        "\n",
        "print(vif)"
      ]
    },
    {
      "cell_type": "markdown",
      "metadata": {
        "id": "rgxUeABJBlfb"
      },
      "source": [
        "# Implement Ridge Regression Model"
      ]
    },
    {
      "cell_type": "code",
      "execution_count": null,
      "metadata": {
        "id": "kc-1nvzl7DRq"
      },
      "outputs": [],
      "source": [
        "x_data = dataset['sqft_living']\n",
        "y_data = dataset['price']\n",
        "# Create each single feature as a vector\n",
        "x_data = np.array(x_data).reshape((-1,1))\n",
        "x_train, x_test, y_train, y_test = train_test_split(x_data, y_data, test_size=0.15, random_state=1)\n"
      ]
    },
    {
      "cell_type": "code",
      "execution_count": null,
      "metadata": {
        "colab": {
          "base_uri": "https://localhost:8080/"
        },
        "id": "13kQ6JcsBNr5",
        "outputId": "240c9096-092a-4437-ebf7-29ca170baf6d"
      },
      "outputs": [
        {
          "name": "stdout",
          "output_type": "stream",
          "text": [
            "RSquared Error :  0.4910058627910614\n",
            "Mean Squared Error:  74744588930.51274\n"
          ]
        }
      ],
      "source": [
        "from sklearn.linear_model import Ridge\n",
        "from sklearn.metrics import mean_squared_error\n",
        "\n",
        "ridge_model = Ridge(alpha=0.0)\n",
        "\n",
        "ridge_model.fit(x_train, y_train)\n",
        "\n",
        "y_pred = ridge_model.predict(x_test)\n",
        "\n",
        "print(\"RSquared Error : \", ridge_model.score(x_test,y_test))\n",
        "mse = mean_squared_error(y_test, y_pred)\n",
        "print(\"Mean Squared Error: \", mse)"
      ]
    },
    {
      "cell_type": "markdown",
      "metadata": {
        "id": "nbIuPYd-u0nb"
      },
      "source": [
        "# LASSO Regression Model"
      ]
    },
    {
      "cell_type": "code",
      "execution_count": null,
      "metadata": {
        "colab": {
          "base_uri": "https://localhost:8080/"
        },
        "id": "aug8Wgf0gtI1",
        "outputId": "21a77443-e23b-4a44-dcbd-54f43deb4268"
      },
      "outputs": [
        {
          "name": "stdout",
          "output_type": "stream",
          "text": [
            "Model Score :  0.49100586278808034\n",
            "Mean Squared Error:  74744588930.95052\n"
          ]
        }
      ],
      "source": [
        "from sklearn import datasets \n",
        "from sklearn.linear_model import Lasso\n",
        "\n",
        "# Create an instance of Lasso Regression implementation\n",
        "lasso = Lasso(alpha=0.2)\n",
        "\n",
        "# Fit the Lasso model\n",
        "lasso.fit(x_train, y_train)\n",
        "y_pred = lasso.predict(x_test)\n",
        "\n",
        "# Create the model score\n",
        "\n",
        "print(\"Model Score : \",lasso.score(x_test, y_test))\n",
        "mse = mean_squared_error(y_test, y_pred)\n",
        "print(\"Mean Squared Error: \", mse)"
      ]
    },
    {
      "cell_type": "markdown",
      "metadata": {
        "id": "AfJqA5mr3AAV"
      },
      "source": []
    },
    {
      "cell_type": "markdown",
      "metadata": {
        "id": "tjXdFyiN6oGm"
      },
      "source": [
        "# Observation on above models"
      ]
    },
    {
      "cell_type": "markdown",
      "metadata": {
        "id": "wOGrufJM68GU"
      },
      "source": [
        "**For Univariate model**"
      ]
    },
    {
      "cell_type": "code",
      "execution_count": null,
      "metadata": {
        "id": "8UiBjvTy6s1e"
      },
      "outputs": [],
      "source": [
        "X = dataset['sqft_living']\n",
        "y = dataset['price']"
      ]
    },
    {
      "cell_type": "code",
      "execution_count": null,
      "metadata": {
        "id": "WX-veRDs66Hn"
      },
      "outputs": [],
      "source": [
        "# calculate the slope and intercept of the best-fit line\n",
        "slope = np.sum((X - np.mean(X)) * (y - np.mean(y))) / np.sum((X - np.mean(X)) ** 2)\n",
        "intercept = np.mean(y) - slope * np.mean(X)"
      ]
    },
    {
      "cell_type": "code",
      "execution_count": null,
      "metadata": {
        "colab": {
          "base_uri": "https://localhost:8080/"
        },
        "id": "YND-USbC3OgB",
        "outputId": "82b87458-724c-42f9-fb6e-7382e556be99"
      },
      "outputs": [
        {
          "name": "stdout",
          "output_type": "stream",
          "text": [
            "280.6235678974483 -43580.74309447408\n"
          ]
        }
      ],
      "source": [
        "print(slope, intercept)"
      ]
    },
    {
      "cell_type": "code",
      "execution_count": null,
      "metadata": {
        "id": "BdaIisbn2rHr"
      },
      "outputs": [],
      "source": [
        "lre=LinearRegression()\n",
        "lre.fit(np.array(X).reshape((-1,1)),y)\n",
        "pred_slope = lre.coef_\n",
        "pred_intercept = lre.intercept_"
      ]
    },
    {
      "cell_type": "code",
      "execution_count": null,
      "metadata": {
        "colab": {
          "base_uri": "https://localhost:8080/"
        },
        "id": "3zZHGqL32CDX",
        "outputId": "acd4b770-a910-4763-b9a8-af623f933cd4"
      },
      "outputs": [
        {
          "name": "stdout",
          "output_type": "stream",
          "text": [
            "[280.6235679] -43580.74309447396\n"
          ]
        }
      ],
      "source": [
        "print(pred_slope, pred_intercept)"
      ]
    },
    {
      "cell_type": "code",
      "execution_count": null,
      "metadata": {
        "colab": {
          "base_uri": "https://localhost:8080/",
          "height": 290
        },
        "id": "nU_VyHvC7C7i",
        "outputId": "0ae30b0a-743f-4b19-a66b-0e457a6a0b3e"
      },
      "outputs": [
        {
          "data": {
            "image/png": "[encoded data removed]",
            "text/plain": [
              "<Figure size 432x288 with 1 Axes>"
            ]
          },
          "metadata": {},
          "output_type": "display_data"
        }
      ],
      "source": [
        "# plot the scatter plot and the best-fit line\n",
        "import matplotlib.pyplot as plt\n",
        "plt.scatter(X, y)\n",
        "plt.plot(X, slope * X + intercept, color='red')\n",
        "plt.xlabel('sqft')\n",
        "plt.ylabel('price')\n",
        "plt.show()"
      ]
    },
    {
      "cell_type": "code",
      "execution_count": null,
      "metadata": {
        "colab": {
          "base_uri": "https://localhost:8080/",
          "height": 290
        },
        "id": "1XrmDwCG4BFd",
        "outputId": "290a6bf1-a3f0-44f7-81cf-957037af826e"
      },
      "outputs": [
        {
          "data": {
            "image/png": "[encoded data removed]",
            "text/plain": [
              "<Figure size 432x288 with 1 Axes>"
            ]
          },
          "metadata": {},
          "output_type": "display_data"
        }
      ],
      "source": [
        "# plot the scatter plot and the best-fit line\n",
        "import matplotlib.pyplot as plt\n",
        "plt.scatter(X, y)\n",
        "plt.plot(X, slope * X + intercept, color='red')\n",
        "plt.plot(X, pred_slope * X + pred_intercept, color='green')\n",
        "plt.legend(['sample','actual','predicted'])\n",
        "plt.xlabel('sqft')\n",
        "plt.ylabel('price')\n",
        "plt.show()"
      ]
    },
    {
      "cell_type": "markdown",
      "metadata": {
        "id": "oQuZlFNS7Gwl"
      },
      "source": [
        "**For Multivariate model**"
      ]
    },
    {
      "cell_type": "code",
      "execution_count": null,
      "metadata": {
        "colab": {
          "base_uri": "https://localhost:8080/",
          "height": 290
        },
        "id": "U7ATOXZr7d0I",
        "outputId": "5d2a7857-ce0a-4cb7-8ac8-b7dbd3b26352"
      },
      "outputs": [
        {
          "data": {
            "image/png": "[encoded data removed]",
            "text/plain": [
              "<Figure size 432x288 with 1 Axes>"
            ]
          },
          "metadata": {},
          "output_type": "display_data"
        }
      ],
      "source": [
        "import numpy as np\n",
        "import matplotlib.pyplot as plt\n",
        "\n",
        "# input features\n",
        "sqft = dataset['sqft_living']\n",
        "bedrooms = dataset['bedrooms']\n",
        "bathrooms = dataset['bathrooms']\n",
        "\n",
        "# target variable\n",
        "price = dataset['price']\n",
        "\n",
        "# combine input features into a single matrix\n",
        "X = np.column_stack((sqft, bedrooms, bathrooms))\n",
        "\n",
        "# add a column of ones for the intercept term\n",
        "X = np.hstack((np.ones((len(X), 1)), X))\n",
        "\n",
        "# calculate the least squares solution for the model coefficients\n",
        "w = np.linalg.inv(X.T.dot(X)).dot(X.T).dot(price)\n",
        "\n",
        "# calculate predicted values of the target variable\n",
        "y_pred = X.dot(w)\n",
        "\n",
        "# plot the scatter plot and best-fit line\n",
        "fig, ax = plt.subplots()\n",
        "ax.scatter(sqft, price)\n",
        "ax.plot(sqft, y_pred, color='red')\n",
        "ax.set_xlabel('Square Feet')\n",
        "ax.set_ylabel('Price')\n",
        "plt.show()"
      ]
    }
  ],
  "metadata": {
    "colab": {
      "provenance": [],
      "include_colab_link": true
    },
    "kernelspec": {
      "display_name": "Python 3",
      "name": "python3"
    },
    "language_info": {
      "name": "python"
    }
  },
  "nbformat": 4,
  "nbformat_minor": 0
}
