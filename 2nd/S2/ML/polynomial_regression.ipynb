{
  "cells": [
    {
      "cell_type": "markdown",
      "metadata": {
        "id": "view-in-github",
        "colab_type": "text"
      },
      "source": [
        "<a href=\"https://colab.research.google.com/github/Vardhannn/ML/blob/main/ML_Lab4.ipynb\" target=\"_parent\"><img src=\"https://colab.research.google.com/assets/colab-badge.svg\" alt=\"Open In Colab\"/></a>"
      ]
    },
    {
      "cell_type": "markdown",
      "metadata": {
        "id": "EWvL2U1grx1J"
      },
      "source": [
        "# Import Packages"
      ]
    },
    {
      "cell_type": "code",
      "execution_count": null,
      "metadata": {
        "colab": {
          "base_uri": "https://localhost:8080/"
        },
        "id": "d5_u9LAtb7Jz",
        "outputId": "13963c09-a628-478b-a45b-1bc9ad561d0c"
      },
      "outputs": [
        {
          "name": "stdout",
          "output_type": "stream",
          "text": [
            "Packages Imported\n"
          ]
        }
      ],
      "source": [
        "import numpy as np\n",
        "import pandas as pd\n",
        "import matplotlib.pyplot as plt\n",
        "from sklearn.datasets import fetch_california_housing\n",
        "from sklearn.model_selection import train_test_split\n",
        "from sklearn.linear_model import LinearRegression\n",
        "from sklearn.preprocessing import PolynomialFeatures\n",
        "from sklearn.metrics import mean_squared_error, r2_score\n",
        "print(\"Packages Imported\")"
      ]
    },
    {
      "cell_type": "code",
      "execution_count": null,
      "metadata": {
        "colab": {
          "base_uri": "https://localhost:8080/"
        },
        "id": "o5zW95qBDM_S",
        "outputId": "a00ad594-bcf8-4a5c-e515-c89287096cce"
      },
      "outputs": [
        {
          "name": "stdout",
          "output_type": "stream",
          "text": [
            "X values [[ 2.10213346]\n",
            " [-0.94568344]\n",
            " [-2.78952986]\n",
            " [ 0.26604656]\n",
            " [ 2.59898756]\n",
            " [-0.16748095]\n",
            " [-1.77378318]\n",
            " [ 1.58682025]\n",
            " [-2.33957233]\n",
            " [ 2.80745849]\n",
            " [-2.80131932]\n",
            " [-2.96635611]\n",
            " [ 0.49227065]\n",
            " [-1.09637022]\n",
            " [ 0.02414445]\n",
            " [-0.81694193]\n",
            " [-0.69319328]\n",
            " [-1.32656727]\n",
            " [ 2.63175872]\n",
            " [ 0.79298588]\n",
            " [ 1.4095044 ]\n",
            " [-1.29222781]\n",
            " [-2.98955196]\n",
            " [-2.57096892]\n",
            " [-1.87929251]\n",
            " [-1.36779173]\n",
            " [ 1.20203261]\n",
            " [-0.44321428]\n",
            " [-0.30638824]\n",
            " [ 1.05339729]\n",
            " [-0.21906563]\n",
            " [-0.49710245]\n",
            " [-1.60958566]\n",
            " [-1.12912805]\n",
            " [ 0.42394025]\n",
            " [ 0.13290334]\n",
            " [-2.54821203]\n",
            " [ 1.4644348 ]\n",
            " [ 1.66263721]\n",
            " [ 0.58972622]\n",
            " [ 0.24253858]\n",
            " [ 2.53485849]\n",
            " [ 0.39445065]\n",
            " [ 2.76965844]\n",
            " [-0.88872902]\n",
            " [-1.82038733]\n",
            " [-2.33654546]\n",
            " [ 1.66405024]\n",
            " [ 0.73419984]\n",
            " [-0.40848736]\n",
            " [ 1.40023742]\n",
            " [ 2.11541919]\n",
            " [ 2.84378676]\n",
            " [-1.80259904]\n",
            " [ 2.95455866]\n",
            " [-1.37932381]\n",
            " [-1.90760861]\n",
            " [ 2.01242935]\n",
            " [-1.14571702]\n",
            " [-2.33922441]\n",
            " [ 2.05266341]\n",
            " [-2.81313543]\n",
            " [-1.39874808]\n",
            " [ 2.50542152]\n",
            " [-2.71034532]\n",
            " [-2.1112852 ]\n",
            " [-0.83923311]\n",
            " [ 2.0791098 ]\n",
            " [ 2.23247231]\n",
            " [ 0.9610052 ]\n",
            " [ 0.06130349]\n",
            " [ 1.11511415]\n",
            " [-2.05523197]\n",
            " [ 0.06754409]\n",
            " [-1.6706509 ]\n",
            " [ 0.22980596]\n",
            " [-1.26335107]\n",
            " [-1.94593726]\n",
            " [-2.95836907]\n",
            " [ 1.70118899]\n",
            " [ 0.03750442]\n",
            " [ 0.75358445]\n",
            " [ 0.24761657]\n",
            " [-0.31515944]\n",
            " [ 0.05229687]\n",
            " [-1.08748521]\n",
            " [-2.21854167]\n",
            " [ 2.77963444]\n",
            " [ 1.45860978]\n",
            " [-2.47846105]\n",
            " [ 0.09207481]\n",
            " [-0.55433888]\n",
            " [ 0.06271399]\n",
            " [-1.24770034]\n",
            " [-2.39167699]\n",
            " [ 0.73915745]\n",
            " [-1.74018119]\n",
            " [-1.44602685]\n",
            " [-0.26773962]\n",
            " [-0.80605353]\n",
            " [ 0.48234909]\n",
            " [ 2.39302317]\n",
            " [-2.38797613]\n",
            " [ 2.82533776]\n",
            " [ 2.39032888]\n",
            " [ 2.36211403]\n",
            " [ 0.75374786]\n",
            " [ 2.69274443]\n",
            " [ 0.25607827]\n",
            " [-2.28301167]\n",
            " [-1.36995299]\n",
            " [ 1.01900217]\n",
            " [-1.16891319]\n",
            " [ 1.82526519]\n",
            " [-1.98146263]\n",
            " [-0.51872223]\n",
            " [-0.66228135]\n",
            " [ 1.51706032]\n",
            " [-0.47760353]\n",
            " [ 2.36502876]\n",
            " [-1.2249189 ]\n",
            " [ 0.11968917]\n",
            " [-0.88401305]\n",
            " [-2.24805358]\n",
            " [ 1.53039161]\n",
            " [-1.44015137]\n",
            " [-1.39401209]\n",
            " [-2.05112392]\n",
            " [ 1.28424864]\n",
            " [-0.01140138]\n",
            " [ 1.87933566]\n",
            " [-1.30098104]\n",
            " [ 0.29121406]\n",
            " [ 1.76559437]\n",
            " [ 1.51821908]\n",
            " [-1.3603403 ]\n",
            " [ 1.60224684]\n",
            " [ 2.18411906]\n",
            " [ 1.07058674]\n",
            " [-1.11515019]\n",
            " [ 0.91244188]\n",
            " [ 0.96029947]\n",
            " [-2.42013521]\n",
            " [-1.12242105]\n",
            " [ 2.23987181]\n",
            " [ 0.16526759]\n",
            " [ 2.67340978]\n",
            " [ 0.38186949]\n",
            " [ 1.73963849]\n",
            " [ 0.16495931]\n",
            " [-2.73387433]\n",
            " [ 0.78986564]\n",
            " [-1.80147501]\n",
            " [ 0.72846582]\n",
            " [ 0.52153923]\n",
            " [-1.88489539]\n",
            " [ 2.54059845]\n",
            " [ 1.967848  ]\n",
            " [-0.04714384]\n",
            " [ 2.35775591]\n",
            " [ 2.56080357]\n",
            " [ 0.6363298 ]\n",
            " [-2.14612448]\n",
            " [ 2.32941953]\n",
            " [-0.11463052]\n",
            " [ 0.70746434]\n",
            " [ 0.90018016]\n",
            " [-0.72120326]\n",
            " [ 0.4218024 ]\n",
            " [-0.31880165]\n",
            " [ 2.34494409]\n",
            " [-1.05018572]\n",
            " [-0.47989425]\n",
            " [-1.62159825]\n",
            " [-2.46332443]\n",
            " [ 0.96699998]\n",
            " [-2.33601032]\n",
            " [ 2.07340475]\n",
            " [-1.71129115]\n",
            " [-0.58798052]\n",
            " [-2.28773973]\n",
            " [-2.86400637]\n",
            " [-1.28493157]\n",
            " [ 2.12605306]\n",
            " [-1.6270239 ]\n",
            " [-2.48268739]\n",
            " [ 2.72568786]\n",
            " [ 0.94915882]\n",
            " [-2.85955041]\n",
            " [ 0.61712763]\n",
            " [-1.81449487]\n",
            " [ 2.25145351]\n",
            " [ 2.4059346 ]\n",
            " [-2.38248073]\n",
            " [ 1.14907615]\n",
            " [-1.31082506]\n",
            " [ 2.17313822]\n",
            " [ 1.76372114]\n",
            " [ 1.67768437]\n",
            " [ 0.07659465]]\n",
            "Y values [[8.09276467e+00]\n",
            " [2.11841560e+00]\n",
            " [6.74187956e+00]\n",
            " [2.92084182e-01]\n",
            " [9.68965871e+00]\n",
            " [2.29292581e+00]\n",
            " [4.45645888e+00]\n",
            " [3.50688605e+00]\n",
            " [3.95422087e+00]\n",
            " [1.14247102e+01]\n",
            " [5.36005904e+00]\n",
            " [4.69759470e+00]\n",
            " [7.84538660e-04]\n",
            " [5.10871769e-01]\n",
            " [3.12592085e+00]\n",
            " [2.69776055e+00]\n",
            " [1.80992742e+00]\n",
            " [2.52076375e+00]\n",
            " [9.42109633e+00]\n",
            " [3.04103039e+00]\n",
            " [4.78257637e+00]\n",
            " [2.64649887e+00]\n",
            " [4.24813729e+00]\n",
            " [5.88847667e+00]\n",
            " [5.13440332e+00]\n",
            " [1.78001735e+00]\n",
            " [4.98490630e+00]\n",
            " [3.08340415e+00]\n",
            " [2.14384403e+00]\n",
            " [3.40391486e+00]\n",
            " [2.88069234e+00]\n",
            " [3.27680148e+00]\n",
            " [2.98028318e+00]\n",
            " [2.58472187e+00]\n",
            " [1.37459844e+00]\n",
            " [2.54152889e+00]\n",
            " [3.63068336e+00]\n",
            " [5.25933756e+00]\n",
            " [6.10190185e+00]\n",
            " [1.99634397e+00]\n",
            " [2.26058059e+00]\n",
            " [8.73319624e+00]\n",
            " [2.48912715e+00]\n",
            " [9.55166639e+00]\n",
            " [4.16479416e+00]\n",
            " [2.20205923e+00]\n",
            " [4.50607910e+00]\n",
            " [6.57548521e+00]\n",
            " [3.38131539e+00]\n",
            " [2.20364170e+00]\n",
            " [5.85689294e+00]\n",
            " [7.20523544e+00]\n",
            " [1.11652123e+01]\n",
            " [2.42141950e+00]\n",
            " [1.22715842e+01]\n",
            " [4.10654834e+00]\n",
            " [3.64119507e+00]\n",
            " [5.78507503e+00]\n",
            " [8.71988268e-01]\n",
            " [4.00655879e+00]\n",
            " [6.49859021e+00]\n",
            " [6.14703077e+00]\n",
            " [2.86327107e+00]\n",
            " [1.00874387e+01]\n",
            " [4.64884174e+00]\n",
            " [3.76361807e+00]\n",
            " [7.55832640e-01]\n",
            " [8.59448246e+00]\n",
            " [7.01825163e+00]\n",
            " [4.40992671e+00]\n",
            " [1.13642868e+00]\n",
            " [5.51429535e+00]\n",
            " [2.42183494e+00]\n",
            " [3.03505989e+00]\n",
            " [2.69507128e+00]\n",
            " [1.46479181e+00]\n",
            " [4.41149248e+00]\n",
            " [4.86326635e+00]\n",
            " [6.12364848e+00]\n",
            " [6.35430296e+00]\n",
            " [2.31798747e+00]\n",
            " [3.51564091e+00]\n",
            " [2.38746130e+00]\n",
            " [1.02941751e+00]\n",
            " [2.63041490e+00]\n",
            " [1.69751103e+00]\n",
            " [4.33965066e+00]\n",
            " [1.06977574e+01]\n",
            " [4.04900836e+00]\n",
            " [5.45614294e+00]\n",
            " [2.04924166e+00]\n",
            " [1.81327052e+00]\n",
            " [3.43901579e+00]\n",
            " [2.66729284e+00]\n",
            " [5.39339674e+00]\n",
            " [4.57265940e+00]\n",
            " [2.85427820e+00]\n",
            " [3.15220519e+00]\n",
            " [1.49017699e+00]\n",
            " [4.39528796e+00]\n",
            " [3.13757585e+00]\n",
            " [8.93674324e+00]\n",
            " [3.49381558e+00]\n",
            " [1.14347155e+01]\n",
            " [9.58861001e+00]\n",
            " [7.13653268e+00]\n",
            " [3.32596131e+00]\n",
            " [1.03208727e+01]\n",
            " [3.03821284e+00]\n",
            " [5.14347725e+00]\n",
            " [2.80307891e+00]\n",
            " [4.43640032e+00]\n",
            " [2.72038665e+00]\n",
            " [6.34496068e+00]\n",
            " [3.65564675e+00]\n",
            " [2.42807399e+00]\n",
            " [2.06329241e+00]\n",
            " [6.07475044e+00]\n",
            " [2.00406363e+00]\n",
            " [8.63392110e+00]\n",
            " [3.25021235e+00]\n",
            " [9.69606762e-01]\n",
            " [1.23640532e+00]\n",
            " [5.08068865e+00]\n",
            " [5.91855928e+00]\n",
            " [1.65717619e+00]\n",
            " [1.23372303e+00]\n",
            " [3.93069247e+00]\n",
            " [4.40549932e+00]\n",
            " [1.89301669e+00]\n",
            " [7.11013178e+00]\n",
            " [8.29615261e-01]\n",
            " [2.05807580e+00]\n",
            " [6.82487084e+00]\n",
            " [3.95827884e+00]\n",
            " [2.52336920e+00]\n",
            " [5.00665910e+00]\n",
            " [9.08988266e+00]\n",
            " [1.93260164e+00]\n",
            " [6.42372384e-01]\n",
            " [2.52020105e+00]\n",
            " [2.57147960e+00]\n",
            " [4.88538620e+00]\n",
            " [2.70730825e+00]\n",
            " [8.45726074e+00]\n",
            " [2.74957621e-01]\n",
            " [1.00747007e+01]\n",
            " [3.73548114e+00]\n",
            " [4.78242523e+00]\n",
            " [1.52792454e+00]\n",
            " [5.32931101e+00]\n",
            " [2.65200790e+00]\n",
            " [2.46233955e+00]\n",
            " [2.98477995e+00]\n",
            " [3.44709865e+00]\n",
            " [3.29309744e+00]\n",
            " [9.89491101e+00]\n",
            " [8.16521120e+00]\n",
            " [1.90472396e+00]\n",
            " [9.31812991e+00]\n",
            " [1.09604055e+01]\n",
            " [3.00250810e+00]\n",
            " [3.18628034e+00]\n",
            " [8.87409429e+00]\n",
            " [1.45168735e+00]\n",
            " [4.03450744e+00]\n",
            " [3.81594355e+00]\n",
            " [1.94718212e+00]\n",
            " [2.31724310e+00]\n",
            " [1.77507944e+00]\n",
            " [8.99508594e+00]\n",
            " [1.26124432e+00]\n",
            " [1.12329271e+00]\n",
            " [3.19081154e+00]\n",
            " [5.50107912e+00]\n",
            " [2.78024848e+00]\n",
            " [4.07357880e+00]\n",
            " [7.18406074e+00]\n",
            " [1.55297975e+00]\n",
            " [3.48838271e+00]\n",
            " [2.25512666e+00]\n",
            " [6.46546791e+00]\n",
            " [1.69044869e+00]\n",
            " [7.00850228e+00]\n",
            " [2.43632315e+00]\n",
            " [4.25793787e+00]\n",
            " [9.14241866e+00]\n",
            " [3.71115340e+00]\n",
            " [5.67227694e+00]\n",
            " [3.38322721e+00]\n",
            " [3.71568232e+00]\n",
            " [5.83171174e+00]\n",
            " [6.88092008e+00]\n",
            " [3.67811846e+00]\n",
            " [4.37186882e+00]\n",
            " [1.70540805e+00]\n",
            " [8.56139386e+00]\n",
            " [6.62045296e+00]\n",
            " [6.07419343e+00]\n",
            " [2.05273438e+00]]\n"
          ]
        }
      ],
      "source": [
        "X = 6 * np.random.rand(200, 1) - 3\n",
        "y = 0.8 * X**2 + 0.9*X + 2 + np.random.randn(200, 1)\n",
        "print(\"X values\", X)\n",
        "print(\"Y values\", y)"
      ]
    },
    {
      "cell_type": "code",
      "execution_count": null,
      "metadata": {
        "colab": {
          "base_uri": "https://localhost:8080/",
          "height": 265
        },
        "id": "BbeqqcGhFISv",
        "outputId": "881facc5-6fc9-49ea-ee33-405895945bdd"
      },
      "outputs": [
        {
          "data": {
            "image/png": "[encoded data removed]",
            "text/plain": [
              "<Figure size 432x288 with 1 Axes>"
            ]
          },
          "metadata": {},
          "output_type": "display_data"
        }
      ],
      "source": [
        "import matplotlib.pyplot as plt\n",
        "plt.scatter(X,y)\n",
        "plt.show()"
      ]
    },
    {
      "cell_type": "markdown",
      "metadata": {
        "id": "yGOg-xlssRM_"
      },
      "source": [
        "# Model creation and graph plotting"
      ]
    },
    {
      "cell_type": "code",
      "execution_count": null,
      "metadata": {
        "id": "9zeyCzbglYFQ"
      },
      "outputs": [],
      "source": [
        "def plot_regression(degree):\n",
        "    polynomial_features = PolynomialFeatures(degree=degree)\n",
        "    X_poly = polynomial_features.fit_transform(X)\n",
        "\n",
        "    model = LinearRegression()\n",
        "    model.fit(X_poly, y)\n",
        "\n",
        "    X_plot_poly = polynomial_features.transform(X)\n",
        "    y_plot = model.predict(X_plot_poly)\n",
        "\n",
        "    plt.scatter(X, y, s=10)\n",
        "    # plt.plot(X,y)\n",
        "    plt.plot(X_poly, y_plot, color='r')\n",
        "    plt.title(f'Degree {degree} Polynomial Regression')\n",
        "    plt.xlabel('Median Income')\n",
        "    plt.ylabel('House Value')\n",
        "    plt.show()\n",
        "\n",
        "    y_pred = model.predict(X_poly)\n",
        "    rmse = np.sqrt(mean_squared_error(y, y_pred))\n",
        "    r2 = r2_score(y,y_pred)\n",
        "    print(f'RMSE for degree {degree}: {rmse:.2f}')\n",
        "    print(f'R2 Score for degree {degree}: {r2:.2f}')"
      ]
    },
    {
      "cell_type": "code",
      "execution_count": null,
      "metadata": {
        "colab": {
          "base_uri": "https://localhost:8080/",
          "height": 330
        },
        "id": "_o_NMj_5qMq4",
        "outputId": "e8d9961e-c3c1-4b10-fafd-844b064daa8a"
      },
      "outputs": [
        {
          "data": {
            "image/png": "[encoded data removed]",
            "text/plain": [
              "<Figure size 432x288 with 1 Axes>"
            ]
          },
          "metadata": {},
          "output_type": "display_data"
        },
        {
          "name": "stdout",
          "output_type": "stream",
          "text": [
            "RMSE for degree 1: 2.20\n",
            "R2 Score for degree 1: 0.32\n"
          ]
        }
      ],
      "source": [
        "plot_regression(1)  # Degree 1 (linear)"
      ]
    },
    {
      "cell_type": "code",
      "execution_count": null,
      "metadata": {
        "colab": {
          "base_uri": "https://localhost:8080/",
          "height": 330
        },
        "id": "snmyKBA-qR8Q",
        "outputId": "d986927b-b325-4438-d687-b0706f612114"
      },
      "outputs": [
        {
          "data": {
            "image/png": "[encoded data removed]",
            "text/plain": [
              "<Figure size 432x288 with 1 Axes>"
            ]
          },
          "metadata": {},
          "output_type": "display_data"
        },
        {
          "name": "stdout",
          "output_type": "stream",
          "text": [
            "RMSE for degree 2: 0.92\n",
            "R2 Score for degree 2: 0.88\n"
          ]
        }
      ],
      "source": [
        "plot_regression(2)  # Degree 2"
      ]
    },
    {
      "cell_type": "code",
      "execution_count": null,
      "metadata": {
        "id": "NDPJjRBWqV4P"
      },
      "outputs": [],
      "source": [
        "plot_regression(3)  # Degree 3"
      ]
    },
    {
      "cell_type": "code",
      "execution_count": null,
      "metadata": {
        "id": "Z306G4UGqXI5"
      },
      "outputs": [],
      "source": [
        "plot_regression(4)  # Degree 4"
      ]
    },
    {
      "cell_type": "code",
      "execution_count": null,
      "metadata": {
        "id": "rAA2h02AqZWh"
      },
      "outputs": [],
      "source": [
        "plot_regression(5)  # Degree 5"
      ]
    },
    {
      "cell_type": "code",
      "execution_count": null,
      "metadata": {
        "colab": {
          "background_save": true
        },
        "id": "s8kuLsHCqdAJ",
        "outputId": "9598650e-5efc-4ae3-d2dd-e80f62f9c2a2"
      },
      "outputs": [
        {
          "data": {
            "image/png": "[encoded data removed]",
            "text/plain": [
              "<Figure size 432x288 with 1 Axes>"
            ]
          },
          "metadata": {},
          "output_type": "display_data"
        }
      ],
      "source": [
        "colors = ['b', 'g', 'r', 'c', 'm', 'y', 'k'] # List of colors to use\n",
        "\n",
        "for degree in range(1, 6):\n",
        "    polynomial_features = PolynomialFeatures(degree=degree)\n",
        "    X_poly = polynomial_features.fit_transform(X)\n",
        "\n",
        "    model = LinearRegression()\n",
        "    model.fit(X_poly, y)\n",
        "\n",
        "    X_plot_poly = polynomial_features.transform(X)\n",
        "    y_plot = model.predict(X_plot_poly)\n",
        "\n",
        "    plt.scatter(X, y_plot, color=colors[degree-1], label=f'Degree {degree}')\n",
        "\n",
        "plt.scatter(X, y,s=10)\n",
        "plt.title('Polynomial Regression with Different Degrees')\n",
        "plt.xlabel('Median Income')\n",
        "plt.ylabel('House Value')\n",
        "plt.legend()\n",
        "plt.show()"
      ]
    }
  ],
  "metadata": {
    "colab": {
      "provenance": [],
      "include_colab_link": true
    },
    "kernelspec": {
      "display_name": "Python 3",
      "name": "python3"
    },
    "language_info": {
      "name": "python"
    }
  },
  "nbformat": 4,
  "nbformat_minor": 0
}
