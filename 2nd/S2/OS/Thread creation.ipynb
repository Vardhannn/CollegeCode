{
 "cells": [
  {
   "cell_type": "code",
   "execution_count": 1,
   "id": "bf8dc69f",
   "metadata": {},
   "outputs": [
    {
     "name": "stdout",
     "output_type": "stream",
     "text": [
      "Worker 0 starting\n",
      "Worker 1 starting\n",
      "Worker 2 starting\n",
      "Worker 0 exiting\n",
      "Worker 1 exiting\n",
      "Worker 2 exiting\n"
     ]
    }
   ],
   "source": [
    "#THREAD CREATION\n",
    "\n",
    "import threading\n",
    "import time\n",
    "\n",
    "\n",
    "def worker(name):\n",
    "    print(f\"Worker {name} starting\")\n",
    "    time.sleep(2)\n",
    "    print(f\"Worker {name} exiting\")\n",
    "\n",
    "\n",
    "def main():\n",
    "    threads = []\n",
    "\n",
    "    for i in range(3):\n",
    "        t = threading.Thread(target=worker, args=(i,))\n",
    "        threads.append(t)\n",
    "        t.start()\n",
    "\n",
    "    for t in threads:\n",
    "        t.join()\n",
    "\n",
    "\n",
    "if __name__ == \"__main__\":\n",
    "    main()"
   ]
  }
 ],
 "metadata": {
  "kernelspec": {
   "display_name": "Python 3 (ipykernel)",
   "language": "python",
   "name": "python3"
  },
  "language_info": {
   "codemirror_mode": {
    "name": "ipython",
    "version": 3
   },
   "file_extension": ".py",
   "mimetype": "text/x-python",
   "name": "python",
   "nbconvert_exporter": "python",
   "pygments_lexer": "ipython3",
   "version": "3.9.13"
  }
 },
 "nbformat": 4,
 "nbformat_minor": 5
}
