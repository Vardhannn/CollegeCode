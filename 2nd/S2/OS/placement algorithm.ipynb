{
 "cells": [
  {
   "cell_type": "code",
   "execution_count": 3,
   "id": "495605fd",
   "metadata": {},
   "outputs": [
    {
     "name": "stdout",
     "output_type": "stream",
     "text": [
      "Process No.\tProcess Size\tBlock no.\n",
      "1 \t\t 25 \t\t1\n",
      "2 \t\t 50 \t\t1\n",
      "3 \t\t 100 \t\t2\n",
      "4 \t\t 75 \t\t2\n"
     ]
    }
   ],
   "source": [
    "\n",
    "def bestFit(blockSize, m, processSize, n):\n",
    "    allocation = [-1] * n\n",
    "\n",
    "    for i in range(n):\n",
    "        bestIdx = -1\n",
    "        for j in range(m):\n",
    "            if blockSize[j] >= processSize[i]:\n",
    "                if bestIdx == -1:\n",
    "                    bestIdx = j\n",
    "                elif blockSize[bestIdx] > blockSize[j]:\n",
    "                    bestIdx = j\n",
    "\n",
    "        if bestIdx != -1:\n",
    "            allocation[i] = bestIdx\n",
    "\n",
    "            blockSize[bestIdx] -= processSize[i]\n",
    "\n",
    "    print(\"Process No.\\tProcess Size\\tBlock no.\")\n",
    "    for i in range(n):\n",
    "        print(i + 1, \"\\t\\t\", processSize[i], end=\" \\t\\t\")\n",
    "        if allocation[i] != -1:\n",
    "            print(allocation[i] + 1)\n",
    "        else:\n",
    "            print(\"Not Allocated\")\n",
    "\n",
    "blockSize = [75,175]\n",
    "processSize = [25,50,100,75]\n",
    "m = len(blockSize)\n",
    "n = len(processSize)\n",
    "bestFit(blockSize, m, processSize, n)"
   ]
  },
  {
   "cell_type": "code",
   "execution_count": 4,
   "id": "0765f35a",
   "metadata": {},
   "outputs": [
    {
     "name": "stdout",
     "output_type": "stream",
     "text": [
      "[-1, -1, -1, -1, -1]\n"
     ]
    }
   ],
   "source": [
    "n=5\n",
    "allocation = [-1] * n\n",
    "print(allocation)"
   ]
  },
  {
   "cell_type": "code",
   "execution_count": 11,
   "id": "6bcf66c9",
   "metadata": {},
   "outputs": [
    {
     "name": "stdout",
     "output_type": "stream",
     "text": [
      "Process No.\t\tProcess\t\t   Size Block No.\n",
      "1\t\t\t25\t\t\t 1\n",
      "2\t\t\t50\t\t\t 1\n",
      "3\t\t\t100\t\t\t 2\n",
      "4\t\t\t75\t\t\t 2\n"
     ]
    }
   ],
   "source": [
    "def FirstFit(block_Size, m, process_Size, n):\n",
    "    allocate = [-1] * n\n",
    "\n",
    "\n",
    "    for i in range(n):\n",
    "        for j in range(m):\n",
    "            if block_Size[j] >= process_Size[i]:\n",
    "                allocate[i] = j\n",
    "\n",
    "                block_Size[j] -= process_Size[i]\n",
    "                break\n",
    "\n",
    "    print(\"Process No.\\t\\tProcess\\t\\t   Size Block No.\")\n",
    "\n",
    "    for i in range(n):\n",
    "        print(str(i + 1) + \"\\t\\t\\t\" + str(process_Size[i]) + \"\\t\\t\\t\", end=\" \")\n",
    "\n",
    "        if allocate[i] != -1:\n",
    "            print(allocate[i] + 1)\n",
    "        else:\n",
    "            print(\"Not Allocated\")\n",
    "\n",
    "\n",
    "# Driver code\n",
    "\n",
    "block_Size = [75,175]\n",
    "process_Size = [25,50,100,75]\n",
    "m = len(block_Size)\n",
    "n = len(process_Size)\n",
    "\n",
    "FirstFit(block_Size, m, process_Size, n)"
   ]
  },
  {
   "cell_type": "code",
   "execution_count": 14,
   "id": "f0a31a9a",
   "metadata": {},
   "outputs": [
    {
     "name": "stdout",
     "output_type": "stream",
     "text": [
      "Process Number Process Size Block Number\n",
      "1         25    2\n",
      "2         50    2\n",
      "3         100    2\n",
      "4         75    1\n"
     ]
    }
   ],
   "source": [
    "def worstfit(b_size, m, p_size, n): \n",
    "\n",
    "    allocate = [-1] * n \n",
    "    for i in range(n):\n",
    "        wstIdx = -1\n",
    "        for j in range(m): \n",
    "            if b_size[j] >= p_size[i]: \n",
    "                if wstIdx == -1:  \n",
    "                    wstIdx = j  \n",
    "                elif b_size[wstIdx] < b_size[j]:  \n",
    "                    wstIdx = j \n",
    "    \n",
    "        if wstIdx != -1:\n",
    "            allocate[i] = wstIdx  \n",
    "            b_size[wstIdx] -= p_size[i] \n",
    "    print (\"Process Number Process Size Block Number\") \n",
    "    for i in range(n): \n",
    "        print(i + 1, \"       \",p_size[i], end = \"    \")  \n",
    "        if allocate[i] != -1: \n",
    "            print(allocate[i] + 1)  \n",
    "        else:\n",
    "            print(\"Not Allocated\") \n",
    "\n",
    " \n",
    "     \n",
    "# Driver code\n",
    "if __name__ == '__main__': \n",
    "    b_size = [75,175]  \n",
    "    p_size = [25,50,100,75]  \n",
    "    m = len(b_size)  \n",
    "    n = len(p_size)  \n",
    "  \n",
    "    worstfit(b_size, m, p_size, n)\n"
   ]
  },
  {
   "cell_type": "code",
   "execution_count": 20,
   "id": "073af6ce",
   "metadata": {},
   "outputs": [
    {
     "name": "stdout",
     "output_type": "stream",
     "text": [
      "Process No. Process Size Block no.\n",
      "1           25     1\n",
      "2           50     1\n",
      "3           100     2\n",
      "4           75     2\n"
     ]
    }
   ],
   "source": [
    "\n",
    "def Next_fit(block_size, m, process_size, n):\n",
    "    allocate = [-1] * n  \n",
    "    j = 0     \n",
    "    for i in range(n): \n",
    "        while j < m: \n",
    "            if block_size[j] >= process_size[i]: \n",
    "                allocate[i] = j \n",
    "                block_size[j] -= process_size[i]  \n",
    "                break\n",
    "            j = (j + 1) % m \n",
    "            \n",
    "    print(\"Process No. Process Size Block no.\")  \n",
    "    for i in range(n): \n",
    "        print(i + 1, \"         \", process_size[i],end = \"     \") \n",
    "        if allocate[i] != -1: \n",
    "            print(allocate[i] + 1)  \n",
    "        else: \n",
    "            print(\"Not Allocated\") \n",
    "  \n",
    " # Driver Code \n",
    "if __name__ == '__main__':  \n",
    "    block_size = [75,175] \n",
    "    process_size = [25,50,100,75]\n",
    "    m = len(block_size) \n",
    "    n = len(process_size) \n",
    "  \n",
    "    Next_fit(block_size, m, process_size, n)\n"
   ]
  }
 ],
 "metadata": {
  "kernelspec": {
   "display_name": "Python 3 (ipykernel)",
   "language": "python",
   "name": "python3"
  },
  "language_info": {
   "codemirror_mode": {
    "name": "ipython",
    "version": 3
   },
   "file_extension": ".py",
   "mimetype": "text/x-python",
   "name": "python",
   "nbconvert_exporter": "python",
   "pygments_lexer": "ipython3",
   "version": "3.9.13"
  }
 },
 "nbformat": 4,
 "nbformat_minor": 5
}
