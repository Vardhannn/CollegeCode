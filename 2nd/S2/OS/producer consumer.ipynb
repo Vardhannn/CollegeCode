{
 "cells": [
  {
   "cell_type": "code",
   "execution_count": null,
   "id": "e82445a4",
   "metadata": {},
   "outputs": [
    {
     "name": "stdout",
     "output_type": "stream",
     "text": [
      "Produced Item 1\n",
      "Consumed Item 1\n",
      "Produced Item 2\n",
      "Consumed Item 2\n",
      "Produced Item 3\n",
      "Produced Item 4\n",
      "Consumed Item 3\n",
      "Produced Item 5\n",
      "Produced Item 6\n",
      "Consumed Item 4\n",
      "Produced Item 7\n",
      "Produced Item 8\n",
      "Consumed Item 5\n",
      "Produced Item 9\n",
      "Produced Item 10\n",
      "Consumed Item 6\n",
      "Consumed Item 7\n",
      "Consumed Item 8\n",
      "Consumed Item 9\n",
      "Consumed Item 10\n"
     ]
    }
   ],
   "source": [
    "#PRODUCER AND CONSUMER\n",
    "\n",
    "import threading\n",
    "import queue\n",
    "import time\n",
    "\n",
    "MAX_SIZE = 5  # Maximum size of the shared queue\n",
    "NUM_ITEMS = 10  # Total number of items to produce\n",
    "\n",
    "shared_queue = queue.Queue(MAX_SIZE)  # Shared queue to store items\n",
    "\n",
    "\n",
    "def producer():\n",
    "    for i in range(NUM_ITEMS):\n",
    "        item = f\"Item {i+1}\"\n",
    "        shared_queue.put(item)\n",
    "        print(f\"Produced {item}\")\n",
    "        time.sleep(1)  # Simulating time to produce an item\n",
    "\n",
    "\n",
    "def consumer():\n",
    "    while True:\n",
    "        item = shared_queue.get()\n",
    "        print(f\"Consumed {item}\")\n",
    "        shared_queue.task_done()\n",
    "        time.sleep(2)  # Simulating time to consume an item\n",
    "\n",
    "\n",
    "def main():\n",
    "    # Creating producer and consumer threads\n",
    "    producer_thread = threading.Thread(target=producer)\n",
    "    consumer_thread = threading.Thread(target=consumer)\n",
    "\n",
    "    # Starting the threads\n",
    "    producer_thread.start()\n",
    "    consumer_thread.start()\n",
    "\n",
    "    # Waiting for threads to complete\n",
    "    producer_thread.join()\n",
    "    consumer_thread.join()\n",
    "\n",
    "    # Waiting for all items to be consumed\n",
    "    shared_queue.join()\n",
    "\n",
    "\n",
    "if __name__ == \"__main__\":\n",
    "    main()"
   ]
  }
 ],
 "metadata": {
  "kernelspec": {
   "display_name": "Python 3 (ipykernel)",
   "language": "python",
   "name": "python3"
  },
  "language_info": {
   "codemirror_mode": {
    "name": "ipython",
    "version": 3
   },
   "file_extension": ".py",
   "mimetype": "text/x-python",
   "name": "python",
   "nbconvert_exporter": "python",
   "pygments_lexer": "ipython3",
   "version": "3.9.13"
  }
 },
 "nbformat": 4,
 "nbformat_minor": 5
}
