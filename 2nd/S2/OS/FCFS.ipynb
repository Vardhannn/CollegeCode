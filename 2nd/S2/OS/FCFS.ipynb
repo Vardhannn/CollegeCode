{
 "cells": [
  {
   "cell_type": "code",
   "execution_count": 2,
   "id": "a02626ad",
   "metadata": {},
   "outputs": [
    {
     "name": "stdout",
     "output_type": "stream",
     "text": [
      "FIRST COME FIRST SERVE SCHEDULLING\n",
      "Enter number of processes : 5\n",
      "Enter arrival time of process1: 0\n",
      "Enter burst time of process1: 2\n",
      "Enter arrival time of process2: 2\n",
      "Enter burst time of process2: 5\n",
      "Enter arrival time of process3: 3\n",
      "Enter burst time of process3: 6\n",
      "Enter arrival time of process4: 5\n",
      "Enter burst time of process4: 4\n",
      "Enter arrival time of process5: 5\n",
      "Enter burst time of process5: 2\n",
      "Process | Arrival | Burst | Exit | Turn Around | Wait |\n",
      "    P1    |    0  |     2  |     2   |     2   |    0    |  \n",
      "    P2    |    2  |     5  |     7   |     5   |    0    |  \n",
      "    P3    |    3  |     6  |     13   |     10   |    4    |  \n",
      "    P4    |    5  |     4  |     17   |     12   |    8    |  \n",
      "    P5    |    5  |     2  |     19   |     14   |    12    |  \n"
     ]
    }
   ],
   "source": [
    "print(\"FIRST COME FIRST SERVE SCHEDULLING\")\n",
    "n= int(input(\"Enter number of processes : \"))\n",
    "d = dict()\n",
    "for i in range(n):\n",
    "    key = \"P\"+str(i+1)\n",
    "    a = int(input(\"Enter arrival time of process\"+str(i+1)+\": \"))\n",
    "    b = int(input(\"Enter burst time of process\"+str(i+1)+\": \"))\n",
    "    l = []\n",
    "    l.append(a)\n",
    "    l.append(b)\n",
    "    d[key] = l\n",
    "d = sorted(d.items(), key=lambda item: item[1][0])\n",
    "ET = []\n",
    "for i in range(len(d)):\n",
    "    if(i==0):\n",
    "        ET.append(d[i][1][1])\n",
    "    else:\n",
    "        ET.append(ET[i-1] + d[i][1][1])\n",
    "TAT = []\n",
    "for i in range(len(d)):\n",
    "    TAT.append(ET[i] - d[i][1][0])\n",
    "WT = []\n",
    "for i in range(len(d)):\n",
    "    WT.append(TAT[i] - d[i][1][1])\n",
    "avg_WT = 0\n",
    "for i in WT:\n",
    "    avg_WT +=i\n",
    "avg_WT = (avg_WT/n)\n",
    "print(\"Process | Arrival | Burst | Exit | Turn Around | Wait |\")\n",
    "for i in range(n):\n",
    "      print(\"   \",d[i][0],\"   |   \",d[i][1][0],\" |    \",d[i][1][1],\" |    \",ET[i],\"  |    \",TAT[i],\"  |   \",WT[i],\"   |  \")\n"
   ]
  }
 ],
 "metadata": {
  "kernelspec": {
   "display_name": "Python 3 (ipykernel)",
   "language": "python",
   "name": "python3"
  },
  "language_info": {
   "codemirror_mode": {
    "name": "ipython",
    "version": 3
   },
   "file_extension": ".py",
   "mimetype": "text/x-python",
   "name": "python",
   "nbconvert_exporter": "python",
   "pygments_lexer": "ipython3",
   "version": "3.10.7"
  }
 },
 "nbformat": 4,
 "nbformat_minor": 5
}
