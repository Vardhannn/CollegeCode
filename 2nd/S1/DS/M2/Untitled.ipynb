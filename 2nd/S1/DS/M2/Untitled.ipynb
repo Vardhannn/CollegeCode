{
 "cells": [
  {
   "cell_type": "code",
   "execution_count": 7,
   "id": "a4d98cb0",
   "metadata": {},
   "outputs": [
    {
     "name": "stdout",
     "output_type": "stream",
     "text": [
      "[45, 50, 55, 100, 145, 155, 160]\n",
      "145\n"
     ]
    }
   ],
   "source": [
    "#find out Node whose children are 45 and 55\n",
    "\n",
    "class newNode:\n",
    "    def __init__(self, data):\n",
    "        self.data = data\n",
    "        self.left = None\n",
    "        self.right = None\n",
    "        \n",
    "def insert(root, data):\n",
    "    if root == None:\n",
    "        return newNode(data)\n",
    "    if data < root.data:\n",
    "        root.left = insert(root.left, data)\n",
    "    elif data > root.data:\n",
    "        root.right = insert(root.right, data)\n",
    "    return root\n",
    "\n",
    "def search(root):\n",
    "    if root:\n",
    "        search(root.left)\n",
    "        succ.append(root.data)\n",
    "        search(root.right)\n",
    "\n",
    "            \n",
    "root= newNode(100)\n",
    "insert(root,50)\n",
    "insert(root,55)\n",
    "insert(root,45)\n",
    "insert(root,155)\n",
    "insert(root,145)\n",
    "insert(root,160)\n",
    "succ = []\n",
    "search(root)\n",
    "print(succ)\n",
    "for x in succ:\n",
    "    if x == 100:\n",
    "        print(succ[succ.index(x)+1])\n",
    "        "
   ]
  }
 ],
 "metadata": {
  "kernelspec": {
   "display_name": "Python 3 (ipykernel)",
   "language": "python",
   "name": "python3"
  },
  "language_info": {
   "codemirror_mode": {
    "name": "ipython",
    "version": 3
   },
   "file_extension": ".py",
   "mimetype": "text/x-python",
   "name": "python",
   "nbconvert_exporter": "python",
   "pygments_lexer": "ipython3",
   "version": "3.9.13"
  }
 },
 "nbformat": 4,
 "nbformat_minor": 5
}
