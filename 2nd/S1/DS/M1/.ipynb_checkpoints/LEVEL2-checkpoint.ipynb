{
 "cells": [
  {
   "cell_type": "code",
   "execution_count": 13,
   "metadata": {},
   "outputs": [
    {
     "name": "stdout",
     "output_type": "stream",
     "text": [
      "[3, 4, 5, 6, 7, 9, 98]\n"
     ]
    }
   ],
   "source": [
    "#insertion sort using recursion\n",
    "\n",
    "def insertionsort(n):\n",
    "    if n == len(arr):\n",
    "        return\n",
    "\n",
    "    key = arr[n]\n",
    "    y = n -1 \n",
    "    while y >=0 and key < arr[y]:\n",
    "        arr[y+1] = arr[y]\n",
    "        y -=1\n",
    "    arr[y+1] = key\n",
    "    insertionsort(n+1)\n",
    "\n",
    "arr = [9,98,5,6,3,7,4]\n",
    "n = 0\n",
    "insertionsort(n)\n",
    "print(arr)"
   ]
  },
  {
   "cell_type": "code",
   "execution_count": 3,
   "metadata": {},
   "outputs": [
    {
     "name": "stdout",
     "output_type": "stream",
     "text": [
      "6 10 14 15 21 22 26 "
     ]
    }
   ],
   "source": [
    "#numbers less than N that are product of exactly 2 distinct prime numbers - using recursion\n",
    "\n",
    "import math\n",
    "def isPerfectSquare(x):\n",
    "    sr = math.sqrt(x)\n",
    "    return ((sr - math.floor(sr)) == 0)\n",
    "def isProduct( num):\n",
    "    cnt = 0\n",
    "    i = 2\n",
    "    while cnt < 2 and i * i <= num:\n",
    "        while (num % i == 0) :\n",
    "            num //= i\n",
    "            cnt += 1\n",
    "        i += 1\n",
    "    if (num > 1):\n",
    "        cnt += 1\n",
    "    return cnt == 2\n",
    "def findNumbers(N):\n",
    "    vec = []\n",
    "    for i in range(1,N+1) :\n",
    "        if (isProduct(i) and not isPerfectSquare(i)) :\n",
    "            vec.append(i)\n",
    "    for i in range(len( vec)):\n",
    "        print(vec[i] ,end= \" \")\n",
    "  \n",
    "# Driver function\n",
    "if __name__==\"__main__\":\n",
    "     \n",
    "    N = 30\n",
    "    findNumbers(N)"
   ]
  },
  {
   "cell_type": "code",
   "execution_count": 22,
   "metadata": {},
   "outputs": [
    {
     "name": "stdout",
     "output_type": "stream",
     "text": [
      "[1, 2, 3, 4, 5]\n"
     ]
    }
   ],
   "source": [
    "#selection sort recursively\n",
    "\n",
    "def selectionsort(x):\n",
    "    if x == len(arr):\n",
    "        return \n",
    "    mein  =  x \n",
    "    for y in range(mein + 1, len(arr)):\n",
    "        if arr[mein] > arr[y]:\n",
    "            mein = y\n",
    "    arr[mein], arr[x] = arr[x] , arr[mein]\n",
    "    selectionsort(x+1)\n",
    "\n",
    "arr = [5,4,3,2,1]\n",
    "x = 0\n",
    "selectionsort(x)\n",
    "print(arr)"
   ]
  },
  {
   "cell_type": "code",
   "execution_count": null,
   "metadata": {},
   "outputs": [],
   "source": [
    "#middle of linked list using recursion\n",
    "\n",
    "class Node:\n",
    "    def __init__(self, data):\n",
    "        self.data = data\n",
    "        self.next = None\n",
    "def newLNode(data):\n",
    "    temp = Node(data)\n",
    "    temp.data = data\n",
    "    temp.next = None\n",
    "    return temp\n",
    "mid = None\n",
    "n = 0\n",
    "def midpoint_util(head ):\n",
    "    global n\n",
    "    global mid\n",
    "    if (head == None):\n",
    "        n = int((n) / 2)\n",
    "        return\n",
    "    n = n + 1\n",
    "    midpoint_util(head.next)\n",
    "    n = n - 1\n",
    "    if (n == 0):\n",
    "\n",
    "        mid = head\n",
    " \n",
    "def midpoint(head):\n",
    "    global n\n",
    "    global mid\n",
    "     \n",
    "    mid = None\n",
    "    n = 1\n",
    "    midpoint_util(head)\n",
    "    return mid\n",
    "if __name__=='__main__':\n",
    "     \n",
    "    head = newLNode(1)\n",
    "    head.next = newLNode(2)\n",
    "    head.next.next = newLNode(3)\n",
    "    head.next.next.next = newLNode(4)\n",
    "    head.next.next.next.next = newLNode(5)\n",
    "    result = midpoint(head)\n",
    "    print( result.data )"
   ]
  },
  {
   "cell_type": "code",
   "execution_count": 21,
   "metadata": {},
   "outputs": [
    {
     "name": "stdout",
     "output_type": "stream",
     "text": [
      "30\n"
     ]
    }
   ],
   "source": [
    "#sum of even numbers of an array\n",
    "\n",
    "def SumOfEven(arr, i, sum):\n",
    "\n",
    "    if (i < 0):\n",
    "        print(sum);\n",
    "        return;\n",
    "    \n",
    "    if ((arr[i]) % 2 == 0):\n",
    "        sum += (arr[i]);\n",
    "    SumOfEven(arr, i - 1, sum);\n",
    "\n",
    "\n",
    "\n",
    "arr = [ 1, 2, 3, 4, 5, 6, 7, 8 ,9,10];\n",
    "n = len(arr);\n",
    "sum = 0;\n",
    "SumOfEven(arr, n - 1, sum);"
   ]
  },
  {
   "cell_type": "code",
   "execution_count": 6,
   "metadata": {},
   "outputs": [
    {
     "name": "stdout",
     "output_type": "stream",
     "text": [
      "Yes\n"
     ]
    }
   ],
   "source": [
    "#array sorted or not using recursion\n",
    "\n",
    "def arraySortedOrNot(arr):\n",
    "\n",
    "    n = len(arr)\n",
    "    if n == 1 or n == 0:\n",
    "        return True\n",
    "    return arr[0] <= arr[1] and arraySortedOrNot(arr[1:])\n",
    "\n",
    "arr = [20, 23, 23, 45, 78, 88]\n",
    " \n",
    "if arraySortedOrNot(arr):\n",
    "    print(\"Yes\")\n",
    "else:\n",
    "    print(\"No\")"
   ]
  },
  {
   "cell_type": "code",
   "execution_count": 23,
   "metadata": {},
   "outputs": [
    {
     "name": "stdout",
     "output_type": "stream",
     "text": [
      "1 3 5 7 9 "
     ]
    }
   ],
   "source": [
    "#alternate nodes of a linked list using recursion\n",
    "\n",
    "class Node:\n",
    "    def __init__(self, data):\n",
    "        self.data = data\n",
    "        self.next = None\n",
    "def push( head_ref, new_data):\n",
    " \n",
    "    new_node = Node(new_data);\n",
    "    new_node.data = new_data;\n",
    "    new_node.next = head_ref;\n",
    "    head_ref = new_node;\n",
    "    return head_ref;\n",
    "def printAlternate( node, isOdd):\n",
    "    if (node == None):\n",
    "        return;\n",
    "    if (isOdd == True):\n",
    "        print( node.data, end = \" \");\n",
    "    if (isOdd == True):\n",
    "        isOdd = False;\n",
    "    else:\n",
    "        isOdd = True;\n",
    "    printAlternate(node.next, isOdd);\n",
    "head = None;\n",
    " \n",
    "head = push(head, 10);\n",
    "head = push(head, 9);\n",
    "head = push(head, 8);\n",
    "head = push(head, 7);\n",
    "head = push(head, 6);\n",
    "head = push(head, 5);\n",
    "head = push(head, 4);\n",
    "head = push(head, 3);\n",
    "head = push(head, 2);\n",
    "head = push(head, 1);\n",
    " \n",
    "printAlternate(head, True);"
   ]
  },
  {
   "cell_type": "code",
   "execution_count": null,
   "metadata": {},
   "outputs": [],
   "source": [
    "#Reverse a doubly linked list using recursion\n",
    "\n",
    "import math\n",
    "\n",
    "class Node:\n",
    "    def __init__(self, data):\n",
    "        self.data = data\n",
    "        self.next = None\n",
    " \n",
    "\n",
    "def getNode(data):\n",
    "     \n",
    "    new_node = Node(data)\n",
    "    new_node.data = data\n",
    "    new_node.next = new_node.prev = None\n",
    "    return new_node\n",
    "\n",
    "def push(head_ref, new_node):\n",
    "    new_node.prev = None\n",
    "    new_node.next = head_ref\n",
    "    if (head_ref != None):\n",
    "        head_ref.prev = new_node\n",
    "    head_ref = new_node\n",
    "    return head_ref\n",
    "def Reverse(node):\n",
    "    if not node:\n",
    "        return None\n",
    "    temp = node.next\n",
    "    node.next = node.prev\n",
    "    node.prev = temp\n",
    "    if not node.prev:\n",
    "        return node\n",
    "    return Reverse(node.prev)\n",
    "def printList(head):\n",
    "    while (head != None) :\n",
    "        print(head.data, end = \" \")\n",
    "        head = head.next\n",
    "     \n",
    "# Driver Code\n",
    "if __name__=='__main__':\n",
    "    head = None\n",
    "    head = push(head, getNode(2));\n",
    "    head = push(head, getNode(4));\n",
    "    head = push(head, getNode(8));\n",
    "    head = push(head, getNode(10));\n",
    "    print(\"Original list: \", end = \"\")\n",
    "    printList(head)\n",
    "    head = Reverse(head)\n",
    "    print(\"\\nReversed list: \", end = \"\")\n",
    "    printList(head)\n",
    "     "
   ]
  },
  {
   "cell_type": "code",
   "execution_count": 7,
   "metadata": {},
   "outputs": [
    {
     "name": "stdout",
     "output_type": "stream",
     "text": [
      "ABC\n",
      "ACB\n",
      "BAC\n",
      "BCA\n",
      "CBA\n",
      "CAB\n"
     ]
    }
   ],
   "source": [
    "#permutations of a given list using recursion\n",
    "\n",
    "def toString(List): \n",
    "    return ''.join(List) \n",
    "def permute(a, l, r): \n",
    "    if l==r: \n",
    "        print (toString(a))\n",
    "    else: \n",
    "        for i in range(l,r): \n",
    "            a[l], a[i] = a[i], a[l] \n",
    "            permute(a, l+1, r) \n",
    "            a[l], a[i] = a[i], a[l] \n",
    "  \n",
    "string = \"ABC\"\n",
    "n = len(string) \n",
    "a = list(string) \n",
    "permute(a, 0, n) "
   ]
  },
  {
   "cell_type": "code",
   "execution_count": 12,
   "metadata": {},
   "outputs": [
    {
     "name": "stdout",
     "output_type": "stream",
     "text": [
      "[1, 2, 3, 4, 5, 6, 7, 8, 9]\n"
     ]
    }
   ],
   "source": [
    "#bubble sort recursively\n",
    "\n",
    "def bubblesort(n):\n",
    "    if n == len(arr):\n",
    "        return\n",
    "    for x in range(0,len(arr)-n-1):\n",
    "        if arr[x] > arr[x+1]:\n",
    "            arr[x] , arr[x+1] = arr[x+1], arr[x]\n",
    "    bubblesort(n+1)\n",
    "\n",
    "arr = [5,9,8,6,3,4,7,2,1]\n",
    "n = 0\n",
    "bubblesort(n)\n",
    "print(arr)"
   ]
  }
 ],
 "metadata": {
  "kernelspec": {
   "display_name": "Python 3 (ipykernel)",
   "language": "python",
   "name": "python3"
  },
  "language_info": {
   "codemirror_mode": {
    "name": "ipython",
    "version": 3
   },
   "file_extension": ".py",
   "mimetype": "text/x-python",
   "name": "python",
   "nbconvert_exporter": "python",
   "pygments_lexer": "ipython3",
   "version": "3.9.13"
  }
 },
 "nbformat": 4,
 "nbformat_minor": 2
}
