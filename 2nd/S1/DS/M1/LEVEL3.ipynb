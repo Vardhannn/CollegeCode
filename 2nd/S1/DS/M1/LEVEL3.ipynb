{
 "cells": [
  {
   "cell_type": "code",
   "execution_count": 48,
   "metadata": {},
   "outputs": [
    {
     "name": "stdout",
     "output_type": "stream",
     "text": [
      "2 3 4 5 9 8\n",
      "9\n",
      "found at index 4\n"
     ]
    }
   ],
   "source": [
    "#linear search\n",
    "\n",
    "def lin_search(a,b):\n",
    "    for i in range(len(a)):\n",
    "        if a[i]==b:\n",
    "            return 1\n",
    "        break\n",
    "    return -1\n",
    "a=[int(i) for i in input().split()]\n",
    "b=int(input())\n",
    "if (lin_search(a,b)):\n",
    "    print(\"found at index\",i)\n",
    "else:\n",
    "    print(\"not found \")"
   ]
  },
  {
   "cell_type": "code",
   "execution_count": 51,
   "metadata": {},
   "outputs": [
    {
     "name": "stdout",
     "output_type": "stream",
     "text": [
      "6\n",
      "Found At Index 4\n"
     ]
    }
   ],
   "source": [
    "#binary search\n",
    "def binarySearch(v, To_Find):\n",
    "    lo = 0\n",
    "    hi = len(v) - 1\n",
    "    while hi - lo > 1:\n",
    "        mid = (hi + lo) // 2\n",
    "        if v[mid] < To_Find:\n",
    "            lo = mid + 1\n",
    "        else:\n",
    "            hi = mid\n",
    " \n",
    "    if v[lo] == To_Find:\n",
    "        print(\"Found At Index\", lo)\n",
    "    elif v[hi] == To_Find:\n",
    "        print(\"Found At Index\", hi)\n",
    "    else:\n",
    "        print(\"Not Found\")\n",
    " \n",
    " \n",
    "if __name__ == '__main__':\n",
    "    v = [1, 3, 4, 5, 6]\n",
    "    To_find = int(input())\n",
    "    binarySearch(v,To_find)"
   ]
  },
  {
   "cell_type": "code",
   "execution_count": 32,
   "metadata": {},
   "outputs": [
    {
     "name": "stdout",
     "output_type": "stream",
     "text": [
      "5 4 3 2 1\n",
      "Sorted array is : \n",
      "[1, 2, 3, 4, 5]\n"
     ]
    }
   ],
   "source": [
    "#insertion sort\n",
    "def insertionSort(arr):\n",
    "    for i in range(1, len(arr)):\n",
    " \n",
    "        key = arr[i]\n",
    "        j = i-1\n",
    "        while j >=0 and key < arr[j] :\n",
    "                arr[j+1] = arr[j]\n",
    "                j -= 1\n",
    "        arr[j+1] = key\n",
    "arr = [int(i)for i in input().split()]\n",
    "insertionSort(arr)  \n",
    "lst = []\n",
    "print(\"Sorted array is : \")\n",
    "for i in range(len(arr)):\n",
    "    lst.append(arr[i])      \n",
    "print(lst)"
   ]
  },
  {
   "cell_type": "code",
   "execution_count": 33,
   "metadata": {},
   "outputs": [
    {
     "name": "stdout",
     "output_type": "stream",
     "text": [
      "5 4 3 2 1\n",
      "[1, 2, 3, 4, 5]\n"
     ]
    }
   ],
   "source": [
    "#bubble sort\n",
    "arr = [int(i)for i in input().split()]\n",
    "def bubble_Sort(arr):\n",
    "    count = 0\n",
    "    for i in range(len(arr)-1):\n",
    "        if arr[i] > arr[i + 1]:\n",
    "            arr[i],arr[i + 1] = arr[i + 1],arr[i]\n",
    "            count += 1\n",
    "    if count == 0:\n",
    "        print(arr)\n",
    "    else:\n",
    "        bubble_Sort(arr)\n",
    "bubble_Sort(arr)"
   ]
  },
  {
   "cell_type": "code",
   "execution_count": 34,
   "metadata": {},
   "outputs": [
    {
     "name": "stdout",
     "output_type": "stream",
     "text": [
      "5 4 \n",
      "Sorted array is: \n",
      "4 5 \n"
     ]
    }
   ],
   "source": [
    "#merge sort\n",
    "def merge_Sort(array):\n",
    "    if len(array) > 1:\n",
    "        r = len(array)//2\n",
    "        L = array[:r]\n",
    "        M = array[r:]\n",
    "        merge_Sort(L)\n",
    "        merge_Sort(M)\n",
    "        i = j = k = 0\n",
    "        while i < len(L) and j < len(M):\n",
    "            if L[i] < M[j]:\n",
    "                array[k] = L[i]\n",
    "                i += 1\n",
    "            else:\n",
    "                array[k] = M[j]\n",
    "                j += 1\n",
    "            k += 1\n",
    "        while i < len(L):\n",
    "            array[k] = L[i]\n",
    "            i += 1\n",
    "            k += 1\n",
    "        while j < len(M):\n",
    "            array[k] = M[j]\n",
    "            j += 1\n",
    "            k += 1\n",
    "def printList(array):\n",
    "    for i in range(len(array)):\n",
    "        print(array[i], end=\" \")\n",
    "    print()\n",
    "if __name__ == '__main__':\n",
    "    array = [int(i)for i in input().split()]\n",
    "    merge_Sort(array)\n",
    "    print(\"Sorted array is: \")\n",
    "    printList(array)"
   ]
  },
  {
   "cell_type": "code",
   "execution_count": 25,
   "metadata": {},
   "outputs": [
    {
     "name": "stdout",
     "output_type": "stream",
     "text": [
      "Sorted array\n",
      "11 12 22 25 64 "
     ]
    }
   ],
   "source": [
    "#selection sort\n",
    "A = [64, 25, 12, 22, 11]\n",
    "for i in range(len(A)):\n",
    "    min_idx = i\n",
    "    for j in range(i+1, len(A)):\n",
    "        if A[min_idx] > A[j]:\n",
    "            min_idx = j\n",
    "    A[i], A[min_idx] = A[min_idx], A[i]\n",
    " \n",
    "print (\"Sorted array\")\n",
    "for i in range(len(A)):\n",
    "    print(\"%d\" %A[i],end=\" \")"
   ]
  }
 ],
 "metadata": {
  "kernelspec": {
   "display_name": "Python 3 (ipykernel)",
   "language": "python",
   "name": "python3"
  },
  "language_info": {
   "codemirror_mode": {
    "name": "ipython",
    "version": 3
   },
   "file_extension": ".py",
   "mimetype": "text/x-python",
   "name": "python",
   "nbconvert_exporter": "python",
   "pygments_lexer": "ipython3",
   "version": "3.9.13"
  }
 },
 "nbformat": 4,
 "nbformat_minor": 2
}
