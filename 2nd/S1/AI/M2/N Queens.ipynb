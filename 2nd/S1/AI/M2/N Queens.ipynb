{
 "cells": [
  {
   "cell_type": "code",
   "execution_count": null,
   "id": "4548883c",
   "metadata": {},
   "outputs": [],
   "source": [
    "#nqueens with q representation\n",
    "\n",
    "import numpy as np\n",
    "\n",
    "\n",
    "class solution:\n",
    "    @staticmethod\n",
    "    def solveNQueens(n: int):\n",
    "        col = set()\n",
    "        posDiag = set()\n",
    "        negDiag = set()\n",
    "\n",
    "        res = []\n",
    "        board = [[\".\"] * n for i in range(n)]\n",
    "\n",
    "        def backtrack(r):\n",
    "            if r == n:\n",
    "                copy = [\"\".join(row) for row in board]\n",
    "                res.append(copy)\n",
    "                return\n",
    "            for c in range(n):\n",
    "                if c in col or (r + c) in posDiag or (r - c) in negDiag:\n",
    "                    continue\n",
    "\n",
    "                col.add(c)\n",
    "                posDiag.add(r + c)\n",
    "                negDiag.add(r - c)\n",
    "                board[r][c] = \"Q\"\n",
    "\n",
    "                backtrack(r + 1)\n",
    "\n",
    "                col.remove(c)\n",
    "                posDiag.remove(r + c)\n",
    "                negDiag.remove(r - c)\n",
    "                board[r][c] = \".\"\n",
    "\n",
    "        backtrack(0)\n",
    "        sol = np.array(res)\n",
    "        print(\"Total no.of solutions are: \", len(sol))\n",
    "        return sol\n",
    "\n",
    "\n",
    "queens = solution()\n",
    "print(queens.solveNQueens(8))"
   ]
  },
  {
   "cell_type": "code",
   "execution_count": 1,
   "id": "7f9cf5ff",
   "metadata": {},
   "outputs": [
    {
     "name": "stdout",
     "output_type": "stream",
     "text": [
      "Enter the number of queens\n",
      "8\n",
      "[1, 0, 0, 0, 0, 0, 0, 0]\n",
      "[0, 0, 0, 0, 1, 0, 0, 0]\n",
      "[0, 0, 0, 0, 0, 0, 0, 1]\n",
      "[0, 0, 0, 0, 0, 1, 0, 0]\n",
      "[0, 0, 1, 0, 0, 0, 0, 0]\n",
      "[0, 0, 0, 0, 0, 0, 1, 0]\n",
      "[0, 1, 0, 0, 0, 0, 0, 0]\n",
      "[0, 0, 0, 1, 0, 0, 0, 0]\n"
     ]
    }
   ],
   "source": [
    "# n queens (another code)\n",
    "\n",
    "print (\"Enter the number of queens\")\n",
    "N = int(input())\n",
    "board = [[0]*N for _ in range(N)]\n",
    "def attack(i, j):\n",
    "    #checking vertically and horizontally\n",
    "    for k in range(0,N):\n",
    "        if board[i][k]==1 or board[k][j]==1:\n",
    "            return True\n",
    "    #checking diagonally\n",
    "    for k in range(0,N):\n",
    "        for l in range(0,N):\n",
    "            if (k+l==i+j) or (k-l==i-j):\n",
    "                if board[k][l]==1:\n",
    "                    return True\n",
    "    return False\n",
    "def N_queens(n):\n",
    "    if n==0:\n",
    "        return True\n",
    "    for i in range(0,N):\n",
    "        for j in range(0,N):\n",
    "            if (not(attack(i,j))) and (board[i][j]!=1):\n",
    "                board[i][j] = 1\n",
    "                if N_queens(n-1)==True:\n",
    "                    return True\n",
    "                board[i][j] = 0\n",
    "    return False\n",
    "N_queens(N)\n",
    "for i in board:\n",
    "    print (i)"
   ]
  }
 ],
 "metadata": {
  "kernelspec": {
   "display_name": "Python 3 (ipykernel)",
   "language": "python",
   "name": "python3"
  },
  "language_info": {
   "codemirror_mode": {
    "name": "ipython",
    "version": 3
   },
   "file_extension": ".py",
   "mimetype": "text/x-python",
   "name": "python",
   "nbconvert_exporter": "python",
   "pygments_lexer": "ipython3",
   "version": "3.9.13"
  }
 },
 "nbformat": 4,
 "nbformat_minor": 5
}
