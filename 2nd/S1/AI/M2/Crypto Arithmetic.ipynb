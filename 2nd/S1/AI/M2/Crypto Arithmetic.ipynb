{
 "cells": [
  {
   "cell_type": "code",
   "execution_count": 1,
   "id": "ed63090d",
   "metadata": {},
   "outputs": [
    {
     "name": "stdout",
     "output_type": "stream",
     "text": [
      "SEND\n",
      "MORE\n",
      "MONEY\n",
      "YOUR\n",
      "YOU\n",
      "HEART\n",
      "SEND(9567) + MORE(1085) = MONEY(10652)\n",
      "YOUR(9426) + YOU(942) = HEART(10368)\n"
     ]
    }
   ],
   "source": [
    "import string\n",
    "import itertools\n",
    "x=input()\n",
    "y=input()\n",
    "xy=input()\n",
    "z=input()\n",
    "zx=input()\n",
    "zz=input()\n",
    "inListNumsAsStringArray = [ [x, y], \n",
    "                            [z, zx] ]\n",
    "inResultsArray = [ xy,\n",
    "                zz ]\n",
    "inPossibleNumsAsStr = '0123456789'\n",
    "def getNumberFromStringAndMappingInfo(inStr, inDictMapping):\n",
    "    numAsStr = ''\n",
    "    for ch in inStr:\n",
    "        numAsStr = numAsStr + inDictMapping[ch] \n",
    "    return int(numAsStr)\n",
    "\n",
    "def solveCryptarithmeticBruteForce(inListNumsAsString, inResultStr, inPossibleNumsAsStr):\n",
    "    nonZeroLetters = []\n",
    "    strFromStrList = ''\n",
    "    for numStr in inListNumsAsString:\n",
    "        nonZeroLetters.append(numStr[0])\n",
    "        strFromStrList = strFromStrList + numStr\n",
    "    nonZeroLetters.append(inResultStr[0])\n",
    "    strFromStrList = strFromStrList + inResultStr  \n",
    "    uniqueStrs = ''.join(set(strFromStrList))\n",
    "    for tup in itertools.permutations(inPossibleNumsAsStr, len(uniqueStrs)):\n",
    "        dictCharAndDigit = {}\n",
    "        for i in range(len(uniqueStrs)):\n",
    "            dictCharAndDigit[uniqueStrs[i]] = tup[i]            \n",
    "        nonZeroLetterIsZero = False\n",
    "        for letter in nonZeroLetters:\n",
    "            if(dictCharAndDigit[letter] == '0'):\n",
    "                nonZeroLetterIsZero = True\n",
    "                break\n",
    "        if(nonZeroLetterIsZero == True):\n",
    "            continue\n",
    "        result = getNumberFromStringAndMappingInfo(inResultStr, dictCharAndDigit)     \n",
    "        testResult = 0\n",
    "        for numStr in inListNumsAsString:\n",
    "            testResult = testResult + getNumberFromStringAndMappingInfo(numStr, dictCharAndDigit)        \n",
    "\n",
    "        if(testResult == result):\n",
    "            strToPrint = ''\n",
    "            for numStr in inListNumsAsString:\n",
    "                strToPrint = strToPrint + numStr + '(' + str(getNumberFromStringAndMappingInfo(numStr, dictCharAndDigit)) + ')' + ' + '\n",
    "            strToPrint = strToPrint[:-3]\n",
    "            strToPrint = strToPrint + ' = ' + inResultStr + '(' + str(result) + ')'\n",
    "            print(strToPrint)\n",
    "            break\n",
    "\n",
    "for i in range(len(inResultsArray)):\n",
    "    solveCryptarithmeticBruteForce(inListNumsAsStringArray[i], inResultsArray[i], inPossibleNumsAsStr)"
   ]
  }
 ],
 "metadata": {
  "kernelspec": {
   "display_name": "Python 3 (ipykernel)",
   "language": "python",
   "name": "python3"
  },
  "language_info": {
   "codemirror_mode": {
    "name": "ipython",
    "version": 3
   },
   "file_extension": ".py",
   "mimetype": "text/x-python",
   "name": "python",
   "nbconvert_exporter": "python",
   "pygments_lexer": "ipython3",
   "version": "3.9.13"
  }
 },
 "nbformat": 4,
 "nbformat_minor": 5
}
