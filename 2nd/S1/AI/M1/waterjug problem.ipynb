{
 "cells": [
  {
   "cell_type": "code",
   "execution_count": 4,
   "id": "96fe5d0e",
   "metadata": {},
   "outputs": [
    {
     "name": "stdout",
     "output_type": "stream",
     "text": [
      "Give intial capacities of jugs\n",
      "4\n",
      "3\n",
      "values are : 4 3\n",
      "water quantity in jugs in gallons ( 4 3 )\n",
      "0\n",
      "3\n",
      "values are : 0 3\n",
      "water quantity in jugs in gallons ( 0 3 )\n",
      "3\n",
      "0\n",
      "values are : 3 0\n",
      "water quantity in jugs in gallons ( 3 0 )\n",
      "3\n",
      "3\n",
      "values are : 3 3\n",
      "water quantity in jugs in gallons ( 3 3 )\n",
      "4\n",
      "2\n",
      "values are : 4 2\n",
      "water quantity in jugs in gallons ( 4 2 )\n",
      "0\n",
      "2\n",
      "values are : 0 2\n",
      "water quantity in jugs in gallons ( 0 2 )\n",
      "2\n",
      "0\n",
      "values are : 2 0\n",
      "water quantity in jugs in gallons ( 2 0 )\n",
      "goal\n"
     ]
    }
   ],
   "source": [
    "#3.waterjug problem \n",
    "\n",
    "def waterjug(a,b):\n",
    "     print(\"Give intial capacities of jugs\")\n",
    "     if a > 4 and b > 3:\n",
    "         print(\"a should not be greater than 4 or b should not be greater than 2\")\n",
    "     else:\n",
    "         while a != 2:\n",
    "             a = int(input())\n",
    "             b = int(input())\n",
    "             print(\"values are :\",a ,b)\n",
    "             if a > 4 and b > 3 :\n",
    "                 print(\"enter correct input\")\n",
    "             else:\n",
    "                print(\"water quantity in jugs in gallons \" \"(\",a,b,\")\")\n",
    "\n",
    "\n",
    "waterjug(4,3)\n",
    "print(\"goal state reached\")"
   ]
  },
  {
   "cell_type": "code",
   "execution_count": null,
   "id": "4867d79f",
   "metadata": {},
   "outputs": [],
   "source": []
  }
 ],
 "metadata": {
  "kernelspec": {
   "display_name": "Python 3 (ipykernel)",
   "language": "python",
   "name": "python3"
  },
  "language_info": {
   "codemirror_mode": {
    "name": "ipython",
    "version": 3
   },
   "file_extension": ".py",
   "mimetype": "text/x-python",
   "name": "python",
   "nbconvert_exporter": "python",
   "pygments_lexer": "ipython3",
   "version": "3.9.13"
  }
 },
 "nbformat": 4,
 "nbformat_minor": 5
}
