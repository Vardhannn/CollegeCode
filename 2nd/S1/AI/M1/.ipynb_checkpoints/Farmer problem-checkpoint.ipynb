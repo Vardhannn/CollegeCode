{
 "cells": [
  {
   "cell_type": "code",
   "execution_count": 3,
   "id": "36607712",
   "metadata": {},
   "outputs": [
    {
     "name": "stdout",
     "output_type": "stream",
     "text": [
      "farmer wants to cross a river with goat,wolf,cabbage\n",
      "The boat can carry only two persons one is farmer and the other would be a wolf or a goat or a cabbage\n",
      "W,C,G,F----0 to move from left to right\n",
      "give the input of wolf or goat or cabbage to move from left to right with farmer\n",
      "goat\n",
      "W,C-----G,F\n",
      "input to move from right to left with farmer\n",
      "none\n",
      "W,C,F----G\n",
      "input of wolf or cabbage to move from left to right with farmer\n",
      "wolf\n",
      "C-----F,W,G\n",
      "input of wolf or goat to move from right to left with farmer\n",
      "goat\n",
      "G,C,F---W\n",
      "input of goat or cabbage to move from left to right with farmer\n",
      "cabbage\n",
      "G----F,C,W\n",
      "input of wolf or goat to move from right to left with farmer\n",
      "none\n",
      "G,F---C,W\n",
      "do you want to move goat with farmer(yes/no)\n",
      "yes\n",
      "0----G,F,C,W\n",
      "you won the game\n"
     ]
    }
   ],
   "source": [
    "#4.farmer, goat, wolf, cabbage problem \n",
    "\n",
    "print(\"farmer wants to cross a river with goat,wolf,cabbage\")\n",
    "print(\"The boat can carry only two persons one is farmer and the other would be a wolf or a goat or a cabbage\")\n",
    "print(\"W,C,G,F----0 to move from left to right\")\n",
    "print(\"give the input of wolf or goat or cabbage to move from left to right with farmer\")\n",
    "a=input()\n",
    "if (a==\"goat\"):\n",
    "    print(\"W,C-----G,F\")\n",
    "    print(\"input to move from right to left with farmer\")\n",
    "    a=input()\n",
    "    if (a==\"none\"):\n",
    "        print(\"W,C,F----G\")\n",
    "        print(\"input of wolf or cabbage to move from left to right with farmer\")\n",
    "        a=input()\n",
    "        if a==\"wolf\":\n",
    "            print(\"C-----F,W,G\")\n",
    "            print(\"input of wolf or goat to move from right to left with farmer\")\n",
    "            a=input()\n",
    "            if a==\"goat\":\n",
    "                print(\"G,C,F---W\")\n",
    "                print(\"input of goat or cabbage to move from left to right with farmer\")\n",
    "                a=input()\n",
    "                if a==\"cabbage\":\n",
    "                    print(\"G----F,C,W\")\n",
    "                    print(\"input of wolf or goat to move from right to left with farmer\")\n",
    "                    a=input()\n",
    "                    if a==\"none\":\n",
    "                        print(\"G,F---C,W\")\n",
    "                        print(\"do you want to move goat with farmer(yes/no)\")\n",
    "                        a=input()\n",
    "                        if a==\"yes\":\n",
    "                            print(\"0----G,F,C,W\")\n",
    "                            print(\"you won the game\")\n",
    "                        else:\n",
    "                            print(\"move the goat to complete the game\")\n",
    "                    else:\n",
    "                        print(\"wrong input\")\n",
    "                else:\n",
    "                    print(\"wolf eats goat you lost the game\")\n",
    "            else:\n",
    "                print(\"goat eats cabbage you lost the game\")\n",
    "        else:\n",
    "            print(\"wrong input\")\n",
    "           \n",
    "    else:\n",
    "        print(\"wrong input\")\n",
    "elif a==\"wolf\":\n",
    "    print(\"goat eats cabbage you lost the game\")\n",
    "else:\n",
    "    print(\"wolf eats goat you lost the game\")"
   ]
  }
 ],
 "metadata": {
  "kernelspec": {
   "display_name": "Python 3 (ipykernel)",
   "language": "python",
   "name": "python3"
  },
  "language_info": {
   "codemirror_mode": {
    "name": "ipython",
    "version": 3
   },
   "file_extension": ".py",
   "mimetype": "text/x-python",
   "name": "python",
   "nbconvert_exporter": "python",
   "pygments_lexer": "ipython3",
   "version": "3.9.13"
  }
 },
 "nbformat": 4,
 "nbformat_minor": 5
}
