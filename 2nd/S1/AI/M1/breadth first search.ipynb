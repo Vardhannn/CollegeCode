{
 "cells": [
  {
   "cell_type": "code",
   "execution_count": 1,
   "id": "081329b7",
   "metadata": {},
   "outputs": [
    {
     "name": "stdout",
     "output_type": "stream",
     "text": [
      "Following is the Breadth-First Search\n",
      "start d e p b c h r q a f goal "
     ]
    }
   ],
   "source": [
    "#5.`breadth first search\n",
    "\n",
    "graph = {\n",
    "  'start' : ['d','e','p'],\n",
    "  'd' : ['b', 'c',],\n",
    "  'e' : ['h','r'],\n",
    "  'p' : ['q'],\n",
    "  'b' : ['a'],\n",
    "  'c' : ['a'],\n",
    "  'h' : ['q'],\n",
    "  'r' : ['f'],\n",
    "  'q' : [],\n",
    "  'a' : [],\n",
    "  'f' : ['goal'],\n",
    "  'goal':[]\n",
    "}\n",
    "\n",
    "visited = []\n",
    "queue = []     \n",
    "\n",
    "def bfs(visited, graph, node): \n",
    "  visited.append(node)\n",
    "  queue.append(node)\n",
    "\n",
    "  while queue:          \n",
    "    m = queue.pop(0) \n",
    "    print (m, end = \" \") \n",
    "\n",
    "    for neighbour in graph[m]:\n",
    "      if neighbour not in visited:\n",
    "        visited.append(neighbour)\n",
    "        queue.append(neighbour)\n",
    "\n",
    "print(\"Following is the Breadth-First Search\")\n",
    "bfs(visited, graph, 'start')"
   ]
  }
 ],
 "metadata": {
  "kernelspec": {
   "display_name": "Python 3 (ipykernel)",
   "language": "python",
   "name": "python3"
  },
  "language_info": {
   "codemirror_mode": {
    "name": "ipython",
    "version": 3
   },
   "file_extension": ".py",
   "mimetype": "text/x-python",
   "name": "python",
   "nbconvert_exporter": "python",
   "pygments_lexer": "ipython3",
   "version": "3.9.13"
  }
 },
 "nbformat": 4,
 "nbformat_minor": 5
}
