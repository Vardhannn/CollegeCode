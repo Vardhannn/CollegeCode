{
 "cells": [
  {
   "cell_type": "code",
   "execution_count": 1,
   "id": "2b8984a7",
   "metadata": {},
   "outputs": [
    {
     "name": "stdout",
     "output_type": "stream",
     "text": [
      "Enter the number of rooms:4\n",
      "Enter where the location is:2\n",
      "The vaccum cleaner is in location-2\n",
      "Enter d if the location is dirt- Enter c if the location cleaned:dirt\n",
      "The location is cleaned\n",
      "Enter where the location is:1\n",
      "The vaccum cleaner is in location-1\n",
      "Enter d if the location is dirt- Enter c if the location cleaned:c\n",
      "The vaccum cleaner is in locationc\n",
      "The location is cleaned\n",
      "Move to left\n",
      "Enter where the location is:3\n",
      "The vaccum cleaner is in location-3\n",
      "Enter d if the location is dirt- Enter c if the location cleaned:d\n",
      "The location is dirty\n",
      "Now the dirt is cleaned\n",
      "Now move to right\n",
      "The location is cleaned\n",
      "Enter where the location is:1\n",
      "The vaccum cleaner is in location-1\n",
      "Enter d if the location is dirt- Enter c if the location cleaned:d\n",
      "The location is dirty\n",
      "Now the dirt is cleaned\n",
      "Now move to right\n",
      "The location is cleaned\n"
     ]
    }
   ],
   "source": [
    "#1.vacuum cleaner agent problem\n",
    "\n",
    "n=int(input(\"Enter the number of rooms:\"))\n",
    "for i in range(n):\n",
    "  a=str(input(\"Enter where the location is:\"))\n",
    "  print(\"The vaccum cleaner is in location-\"+a)\n",
    "  if(a==a):\n",
    "    b=input(\"Enter d if the location is dirt- Enter c if the location cleaned:\")\n",
    "    if(b=='d'):\n",
    "      print(\"The location is dirty\")\n",
    "      print(\"Now the dirt is cleaned\")\n",
    "      print(\"Now move to right\")\n",
    "    \n",
    "    if(b=='c'):\n",
    "        print(\"The vaccum cleaner is in location\"+b)\n",
    "        print(\"The location is cleaned\")\n",
    "        print(\"Move to left\")\n",
    "\n",
    "    else:\n",
    "      print(\"The location is cleaned\")\n",
    "  else:\n",
    "    print(\"Give the correct location\")"
   ]
  }
 ],
 "metadata": {
  "kernelspec": {
   "display_name": "Python 3 (ipykernel)",
   "language": "python",
   "name": "python3"
  },
  "language_info": {
   "codemirror_mode": {
    "name": "ipython",
    "version": 3
   },
   "file_extension": ".py",
   "mimetype": "text/x-python",
   "name": "python",
   "nbconvert_exporter": "python",
   "pygments_lexer": "ipython3",
   "version": "3.9.13"
  }
 },
 "nbformat": 4,
 "nbformat_minor": 5
}
